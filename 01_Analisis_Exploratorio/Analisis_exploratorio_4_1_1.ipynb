{
  "cells": [
    {
      "cell_type": "code",
      "source": [
        "getwd()\n",
        "\n",
        "setwd('/content')\n",
        "dir()"
      ],
      "metadata": {
        "id": "3PtYeUKAQ-NV",
        "outputId": "fca759df-488f-4692-8b96-fa1350d0e44a",
        "colab": {
          "base_uri": "https://localhost:8080/",
          "height": 52
        }
      },
      "execution_count": null,
      "outputs": [
        {
          "output_type": "display_data",
          "data": {
            "text/html": [
              "'/content'"
            ],
            "text/markdown": "'/content'",
            "text/latex": "'/content'",
            "text/plain": [
              "[1] \"/content\""
            ]
          },
          "metadata": {}
        },
        {
          "output_type": "display_data",
          "data": {
            "text/html": [
              "<style>\n",
              ".list-inline {list-style: none; margin:0; padding: 0}\n",
              ".list-inline>li {display: inline-block}\n",
              ".list-inline>li:not(:last-child)::after {content: \"\\00b7\"; padding: 0 .5ex}\n",
              "</style>\n",
              "<ol class=list-inline><li>'Medicaldataset_Mod_2.csv'</li><li>'sample_data'</li></ol>\n"
            ],
            "text/markdown": "1. 'Medicaldataset_Mod_2.csv'\n2. 'sample_data'\n\n\n",
            "text/latex": "\\begin{enumerate*}\n\\item 'Medicaldataset\\_Mod\\_2.csv'\n\\item 'sample\\_data'\n\\end{enumerate*}\n",
            "text/plain": [
              "[1] \"Medicaldataset_Mod_2.csv\" \"sample_data\"             "
            ]
          },
          "metadata": {}
        }
      ]
    },
    {
      "cell_type": "code",
      "source": [
        "Medical = read.csv('Medicaldataset_Mod_2.csv', header = T, stringsAsFactors = F)\n",
        "#head\n",
        "View(Medical)"
      ],
      "metadata": {
        "id": "1W4M3q-qRBM3",
        "outputId": "c1cb89c8-99a7-4c6b-abeb-dbef307d573b",
        "colab": {
          "base_uri": "https://localhost:8080/",
          "height": 1000
        }
      },
      "execution_count": null,
      "outputs": [
        {
          "output_type": "display_data",
          "data": {
            "text/plain": [
              "     Age Gender Heart.rate Systolic.blood.pressure Diastolic.blood.pressure\n",
              "1    64  Male    66        160                     83                      \n",
              "2    21  Male    94         98                     46                      \n",
              "3    55  Male    64        160                     77                      \n",
              "4    64  Male    70        120                     55                      \n",
              "5    55  Male    64        112                     65                      \n",
              "6    58  Female  61        112                     58                      \n",
              "7    32  Female  40        179                     68                      \n",
              "8    63  Male    60        214                     82                      \n",
              "9    44  Female  60        154                     81                      \n",
              "10   67  Male    61        160                     95                      \n",
              "11   44  Female  60        166                     90                      \n",
              "12   63  Female  60        150                     83                      \n",
              "13   64  Male    60        199                     99                      \n",
              "14   54  Female  94        122                     67                      \n",
              "15   47  Male    76        120                     70                      \n",
              "16   61  Male    81        118                     66                      \n",
              "17   86  Female  73        114                     68                      \n",
              "18   45  Female  70        100                     68                      \n",
              "19   37  Female  72        107                     86                      \n",
              "20   45  Male    60        109                     65                      \n",
              "21   60  Male    92        151                     78                      \n",
              "22   48  Male   135         98                     60                      \n",
              "23   52  Male    76        109                     85                      \n",
              "24   30  Male    63        110                     68                      \n",
              "25   50  Male    63        104                     63                      \n",
              "26   72  Male    64        106                     68                      \n",
              "27   42  Male    65        150                     68                      \n",
              "28   72  Female  64        152                     60                      \n",
              "29   47  Female  66        134                     57                      \n",
              "30   63  Male    66        135                     55                      \n",
              "⋮    ⋮   ⋮      ⋮          ⋮                       ⋮                       \n",
              "1290 55  Male    61         90                      57                     \n",
              "1291 60  Male    69         94                      55                     \n",
              "1292 58  Male    98         91                      50                     \n",
              "1293 50  Male    64        109                      60                     \n",
              "1294 53  Male    55        120                      79                     \n",
              "1295 50  Female  79         92                      55                     \n",
              "1296 64  Female  68         91                      61                     \n",
              "1297 65  Male    60        112                      56                     \n",
              "1298 62  Female  60        145                      67                     \n",
              "1299 67  Female  81        150                      75                     \n",
              "1300 62  Male    90        136                      68                     \n",
              "1301 43  Male    90         95                      50                     \n",
              "1302 47  Female  58         93                      78                     \n",
              "1303 40  Male    57        208                      40                     \n",
              "1304 55  Female  80        117                      83                     \n",
              "1305 56  Female  68        123                      70                     \n",
              "1306 47  Male    71        117                      61                     \n",
              "1307 60  Female  78        109                      69                     \n",
              "1308 56  Male    75        157                      67                     \n",
              "1309 45  Male   117        100                      68                     \n",
              "1310 47  Male    94        105                      81                     \n",
              "1311 70  Female  80        135                      75                     \n",
              "1312 85  Male   112        115                      69                     \n",
              "1313 48  Male    84        118                      68                     \n",
              "1314 86  Female  40        179                      68                     \n",
              "1315 44  Male    94        122                      67                     \n",
              "1316 66  Male    84        125                      55                     \n",
              "1317 45  Male    85        168                     104                     \n",
              "1318 54  Male    58        117                      68                     \n",
              "1319 51  Male    94        157                      79                     \n",
              "     Blood.sugar CK.MB   Troponin Result  \n",
              "1    160           1.800  0.012   negative\n",
              "2    296           6.750  1.060   positive\n",
              "3    270           1.990  0.003   negative\n",
              "4    270          13.870  0.122   positive\n",
              "5    300           1.080  0.003   negative\n",
              "6     87           1.830  0.004   negative\n",
              "7    102           0.710  0.003   negative\n",
              "8     87         300.000  2.370   positive\n",
              "9    135           2.350  0.004   negative\n",
              "10   100           2.840  0.011   negative\n",
              "11   102           2.390  0.006   negative\n",
              "12   198           2.390  0.013   negative\n",
              "13    92           3.430  5.370   positive\n",
              "14    97           1.420  0.012   negative\n",
              "15   319           2.570  0.003   negative\n",
              "16   134           1.490  0.017   positive\n",
              "17    87           1.110  0.776   positive\n",
              "18    96           0.606  0.004   negative\n",
              "19   274           2.890  0.003   negative\n",
              "20    89           1.600  0.020   positive\n",
              "21   301           1.600  0.005   negative\n",
              "22   100          94.790  0.004   positive\n",
              "23   227           0.665  0.491   positive\n",
              "24   107          50.460  0.003   positive\n",
              "25   269          38.720  0.612   positive\n",
              "26   111           2.110  1.390   positive\n",
              "27   101           2.930  0.003   negative\n",
              "28    95           1.610  0.006   negative\n",
              "29   279         300.000  0.007   positive\n",
              "30   166           0.493 10.000   negative\n",
              "⋮    ⋮           ⋮       ⋮        ⋮       \n",
              "1290 188          1.300   0.110   positive\n",
              "1291  87          0.609   0.016   positive\n",
              "1292 182         15.230   0.013   positive\n",
              "1293  96          1.540   0.930   positive\n",
              "1294 114          2.930   0.030   positive\n",
              "1295 415         16.950   0.005   positive\n",
              "1296 119          2.970   1.530   positive\n",
              "1297  95          4.220   1.040   positive\n",
              "1298 208          1.290   0.009   negative\n",
              "1299  80          4.800   0.009   negative\n",
              "1300 141          1.830   0.014   negative\n",
              "1301 118          1.330   0.544   positive\n",
              "1302 170          1.190   0.068   positive\n",
              "1303 108          2.110   0.003   negative\n",
              "1304 200          0.780   0.052   positive\n",
              "1305 102          2.280   0.255   positive\n",
              "1306 140          4.390   1.370   positive\n",
              "1307 230         19.470   0.003   positive\n",
              "1308 104          2.410   0.450   positive\n",
              "1309 202          3.180   0.003   negative\n",
              "1310 135         36.240   0.263   positive\n",
              "1311 351          2.210  10.000   positive\n",
              "1312 114          2.190   0.062   positive\n",
              "1313  96          5.330   0.006   negative\n",
              "1314 147          5.220   0.011   negative\n",
              "1315 204          1.630   0.006   negative\n",
              "1316 149          1.330   0.172   positive\n",
              "1317  96          1.240   4.250   positive\n",
              "1318 443          5.800   0.359   positive\n",
              "1319 134         50.890   1.770   positive"
            ],
            "text/html": [
              "<table class=\"dataframe\">\n",
              "<caption>A data.frame: 1319 × 9</caption>\n",
              "<thead>\n",
              "\t<tr><th scope=col>Age</th><th scope=col>Gender</th><th scope=col>Heart.rate</th><th scope=col>Systolic.blood.pressure</th><th scope=col>Diastolic.blood.pressure</th><th scope=col>Blood.sugar</th><th scope=col>CK.MB</th><th scope=col>Troponin</th><th scope=col>Result</th></tr>\n",
              "\t<tr><th scope=col>&lt;int&gt;</th><th scope=col>&lt;chr&gt;</th><th scope=col>&lt;int&gt;</th><th scope=col>&lt;int&gt;</th><th scope=col>&lt;int&gt;</th><th scope=col>&lt;dbl&gt;</th><th scope=col>&lt;dbl&gt;</th><th scope=col>&lt;dbl&gt;</th><th scope=col>&lt;chr&gt;</th></tr>\n",
              "</thead>\n",
              "<tbody>\n",
              "\t<tr><td>64</td><td>Male  </td><td> 66</td><td>160</td><td>83</td><td>160</td><td>  1.800</td><td> 0.012</td><td>negative</td></tr>\n",
              "\t<tr><td>21</td><td>Male  </td><td> 94</td><td> 98</td><td>46</td><td>296</td><td>  6.750</td><td> 1.060</td><td>positive</td></tr>\n",
              "\t<tr><td>55</td><td>Male  </td><td> 64</td><td>160</td><td>77</td><td>270</td><td>  1.990</td><td> 0.003</td><td>negative</td></tr>\n",
              "\t<tr><td>64</td><td>Male  </td><td> 70</td><td>120</td><td>55</td><td>270</td><td> 13.870</td><td> 0.122</td><td>positive</td></tr>\n",
              "\t<tr><td>55</td><td>Male  </td><td> 64</td><td>112</td><td>65</td><td>300</td><td>  1.080</td><td> 0.003</td><td>negative</td></tr>\n",
              "\t<tr><td>58</td><td>Female</td><td> 61</td><td>112</td><td>58</td><td> 87</td><td>  1.830</td><td> 0.004</td><td>negative</td></tr>\n",
              "\t<tr><td>32</td><td>Female</td><td> 40</td><td>179</td><td>68</td><td>102</td><td>  0.710</td><td> 0.003</td><td>negative</td></tr>\n",
              "\t<tr><td>63</td><td>Male  </td><td> 60</td><td>214</td><td>82</td><td> 87</td><td>300.000</td><td> 2.370</td><td>positive</td></tr>\n",
              "\t<tr><td>44</td><td>Female</td><td> 60</td><td>154</td><td>81</td><td>135</td><td>  2.350</td><td> 0.004</td><td>negative</td></tr>\n",
              "\t<tr><td>67</td><td>Male  </td><td> 61</td><td>160</td><td>95</td><td>100</td><td>  2.840</td><td> 0.011</td><td>negative</td></tr>\n",
              "\t<tr><td>44</td><td>Female</td><td> 60</td><td>166</td><td>90</td><td>102</td><td>  2.390</td><td> 0.006</td><td>negative</td></tr>\n",
              "\t<tr><td>63</td><td>Female</td><td> 60</td><td>150</td><td>83</td><td>198</td><td>  2.390</td><td> 0.013</td><td>negative</td></tr>\n",
              "\t<tr><td>64</td><td>Male  </td><td> 60</td><td>199</td><td>99</td><td> 92</td><td>  3.430</td><td> 5.370</td><td>positive</td></tr>\n",
              "\t<tr><td>54</td><td>Female</td><td> 94</td><td>122</td><td>67</td><td> 97</td><td>  1.420</td><td> 0.012</td><td>negative</td></tr>\n",
              "\t<tr><td>47</td><td>Male  </td><td> 76</td><td>120</td><td>70</td><td>319</td><td>  2.570</td><td> 0.003</td><td>negative</td></tr>\n",
              "\t<tr><td>61</td><td>Male  </td><td> 81</td><td>118</td><td>66</td><td>134</td><td>  1.490</td><td> 0.017</td><td>positive</td></tr>\n",
              "\t<tr><td>86</td><td>Female</td><td> 73</td><td>114</td><td>68</td><td> 87</td><td>  1.110</td><td> 0.776</td><td>positive</td></tr>\n",
              "\t<tr><td>45</td><td>Female</td><td> 70</td><td>100</td><td>68</td><td> 96</td><td>  0.606</td><td> 0.004</td><td>negative</td></tr>\n",
              "\t<tr><td>37</td><td>Female</td><td> 72</td><td>107</td><td>86</td><td>274</td><td>  2.890</td><td> 0.003</td><td>negative</td></tr>\n",
              "\t<tr><td>45</td><td>Male  </td><td> 60</td><td>109</td><td>65</td><td> 89</td><td>  1.600</td><td> 0.020</td><td>positive</td></tr>\n",
              "\t<tr><td>60</td><td>Male  </td><td> 92</td><td>151</td><td>78</td><td>301</td><td>  1.600</td><td> 0.005</td><td>negative</td></tr>\n",
              "\t<tr><td>48</td><td>Male  </td><td>135</td><td> 98</td><td>60</td><td>100</td><td> 94.790</td><td> 0.004</td><td>positive</td></tr>\n",
              "\t<tr><td>52</td><td>Male  </td><td> 76</td><td>109</td><td>85</td><td>227</td><td>  0.665</td><td> 0.491</td><td>positive</td></tr>\n",
              "\t<tr><td>30</td><td>Male  </td><td> 63</td><td>110</td><td>68</td><td>107</td><td> 50.460</td><td> 0.003</td><td>positive</td></tr>\n",
              "\t<tr><td>50</td><td>Male  </td><td> 63</td><td>104</td><td>63</td><td>269</td><td> 38.720</td><td> 0.612</td><td>positive</td></tr>\n",
              "\t<tr><td>72</td><td>Male  </td><td> 64</td><td>106</td><td>68</td><td>111</td><td>  2.110</td><td> 1.390</td><td>positive</td></tr>\n",
              "\t<tr><td>42</td><td>Male  </td><td> 65</td><td>150</td><td>68</td><td>101</td><td>  2.930</td><td> 0.003</td><td>negative</td></tr>\n",
              "\t<tr><td>72</td><td>Female</td><td> 64</td><td>152</td><td>60</td><td> 95</td><td>  1.610</td><td> 0.006</td><td>negative</td></tr>\n",
              "\t<tr><td>47</td><td>Female</td><td> 66</td><td>134</td><td>57</td><td>279</td><td>300.000</td><td> 0.007</td><td>positive</td></tr>\n",
              "\t<tr><td>63</td><td>Male  </td><td> 66</td><td>135</td><td>55</td><td>166</td><td>  0.493</td><td>10.000</td><td>negative</td></tr>\n",
              "\t<tr><td>⋮</td><td>⋮</td><td>⋮</td><td>⋮</td><td>⋮</td><td>⋮</td><td>⋮</td><td>⋮</td><td>⋮</td></tr>\n",
              "\t<tr><td>55</td><td>Male  </td><td> 61</td><td> 90</td><td> 57</td><td>188</td><td> 1.300</td><td> 0.110</td><td>positive</td></tr>\n",
              "\t<tr><td>60</td><td>Male  </td><td> 69</td><td> 94</td><td> 55</td><td> 87</td><td> 0.609</td><td> 0.016</td><td>positive</td></tr>\n",
              "\t<tr><td>58</td><td>Male  </td><td> 98</td><td> 91</td><td> 50</td><td>182</td><td>15.230</td><td> 0.013</td><td>positive</td></tr>\n",
              "\t<tr><td>50</td><td>Male  </td><td> 64</td><td>109</td><td> 60</td><td> 96</td><td> 1.540</td><td> 0.930</td><td>positive</td></tr>\n",
              "\t<tr><td>53</td><td>Male  </td><td> 55</td><td>120</td><td> 79</td><td>114</td><td> 2.930</td><td> 0.030</td><td>positive</td></tr>\n",
              "\t<tr><td>50</td><td>Female</td><td> 79</td><td> 92</td><td> 55</td><td>415</td><td>16.950</td><td> 0.005</td><td>positive</td></tr>\n",
              "\t<tr><td>64</td><td>Female</td><td> 68</td><td> 91</td><td> 61</td><td>119</td><td> 2.970</td><td> 1.530</td><td>positive</td></tr>\n",
              "\t<tr><td>65</td><td>Male  </td><td> 60</td><td>112</td><td> 56</td><td> 95</td><td> 4.220</td><td> 1.040</td><td>positive</td></tr>\n",
              "\t<tr><td>62</td><td>Female</td><td> 60</td><td>145</td><td> 67</td><td>208</td><td> 1.290</td><td> 0.009</td><td>negative</td></tr>\n",
              "\t<tr><td>67</td><td>Female</td><td> 81</td><td>150</td><td> 75</td><td> 80</td><td> 4.800</td><td> 0.009</td><td>negative</td></tr>\n",
              "\t<tr><td>62</td><td>Male  </td><td> 90</td><td>136</td><td> 68</td><td>141</td><td> 1.830</td><td> 0.014</td><td>negative</td></tr>\n",
              "\t<tr><td>43</td><td>Male  </td><td> 90</td><td> 95</td><td> 50</td><td>118</td><td> 1.330</td><td> 0.544</td><td>positive</td></tr>\n",
              "\t<tr><td>47</td><td>Female</td><td> 58</td><td> 93</td><td> 78</td><td>170</td><td> 1.190</td><td> 0.068</td><td>positive</td></tr>\n",
              "\t<tr><td>40</td><td>Male  </td><td> 57</td><td>208</td><td> 40</td><td>108</td><td> 2.110</td><td> 0.003</td><td>negative</td></tr>\n",
              "\t<tr><td>55</td><td>Female</td><td> 80</td><td>117</td><td> 83</td><td>200</td><td> 0.780</td><td> 0.052</td><td>positive</td></tr>\n",
              "\t<tr><td>56</td><td>Female</td><td> 68</td><td>123</td><td> 70</td><td>102</td><td> 2.280</td><td> 0.255</td><td>positive</td></tr>\n",
              "\t<tr><td>47</td><td>Male  </td><td> 71</td><td>117</td><td> 61</td><td>140</td><td> 4.390</td><td> 1.370</td><td>positive</td></tr>\n",
              "\t<tr><td>60</td><td>Female</td><td> 78</td><td>109</td><td> 69</td><td>230</td><td>19.470</td><td> 0.003</td><td>positive</td></tr>\n",
              "\t<tr><td>56</td><td>Male  </td><td> 75</td><td>157</td><td> 67</td><td>104</td><td> 2.410</td><td> 0.450</td><td>positive</td></tr>\n",
              "\t<tr><td>45</td><td>Male  </td><td>117</td><td>100</td><td> 68</td><td>202</td><td> 3.180</td><td> 0.003</td><td>negative</td></tr>\n",
              "\t<tr><td>47</td><td>Male  </td><td> 94</td><td>105</td><td> 81</td><td>135</td><td>36.240</td><td> 0.263</td><td>positive</td></tr>\n",
              "\t<tr><td>70</td><td>Female</td><td> 80</td><td>135</td><td> 75</td><td>351</td><td> 2.210</td><td>10.000</td><td>positive</td></tr>\n",
              "\t<tr><td>85</td><td>Male  </td><td>112</td><td>115</td><td> 69</td><td>114</td><td> 2.190</td><td> 0.062</td><td>positive</td></tr>\n",
              "\t<tr><td>48</td><td>Male  </td><td> 84</td><td>118</td><td> 68</td><td> 96</td><td> 5.330</td><td> 0.006</td><td>negative</td></tr>\n",
              "\t<tr><td>86</td><td>Female</td><td> 40</td><td>179</td><td> 68</td><td>147</td><td> 5.220</td><td> 0.011</td><td>negative</td></tr>\n",
              "\t<tr><td>44</td><td>Male  </td><td> 94</td><td>122</td><td> 67</td><td>204</td><td> 1.630</td><td> 0.006</td><td>negative</td></tr>\n",
              "\t<tr><td>66</td><td>Male  </td><td> 84</td><td>125</td><td> 55</td><td>149</td><td> 1.330</td><td> 0.172</td><td>positive</td></tr>\n",
              "\t<tr><td>45</td><td>Male  </td><td> 85</td><td>168</td><td>104</td><td> 96</td><td> 1.240</td><td> 4.250</td><td>positive</td></tr>\n",
              "\t<tr><td>54</td><td>Male  </td><td> 58</td><td>117</td><td> 68</td><td>443</td><td> 5.800</td><td> 0.359</td><td>positive</td></tr>\n",
              "\t<tr><td>51</td><td>Male  </td><td> 94</td><td>157</td><td> 79</td><td>134</td><td>50.890</td><td> 1.770</td><td>positive</td></tr>\n",
              "</tbody>\n",
              "</table>\n"
            ],
            "text/markdown": "\nA data.frame: 1319 × 9\n\n| Age &lt;int&gt; | Gender &lt;chr&gt; | Heart.rate &lt;int&gt; | Systolic.blood.pressure &lt;int&gt; | Diastolic.blood.pressure &lt;int&gt; | Blood.sugar &lt;dbl&gt; | CK.MB &lt;dbl&gt; | Troponin &lt;dbl&gt; | Result &lt;chr&gt; |\n|---|---|---|---|---|---|---|---|---|\n| 64 | Male   |  66 | 160 | 83 | 160 |   1.800 |  0.012 | negative |\n| 21 | Male   |  94 |  98 | 46 | 296 |   6.750 |  1.060 | positive |\n| 55 | Male   |  64 | 160 | 77 | 270 |   1.990 |  0.003 | negative |\n| 64 | Male   |  70 | 120 | 55 | 270 |  13.870 |  0.122 | positive |\n| 55 | Male   |  64 | 112 | 65 | 300 |   1.080 |  0.003 | negative |\n| 58 | Female |  61 | 112 | 58 |  87 |   1.830 |  0.004 | negative |\n| 32 | Female |  40 | 179 | 68 | 102 |   0.710 |  0.003 | negative |\n| 63 | Male   |  60 | 214 | 82 |  87 | 300.000 |  2.370 | positive |\n| 44 | Female |  60 | 154 | 81 | 135 |   2.350 |  0.004 | negative |\n| 67 | Male   |  61 | 160 | 95 | 100 |   2.840 |  0.011 | negative |\n| 44 | Female |  60 | 166 | 90 | 102 |   2.390 |  0.006 | negative |\n| 63 | Female |  60 | 150 | 83 | 198 |   2.390 |  0.013 | negative |\n| 64 | Male   |  60 | 199 | 99 |  92 |   3.430 |  5.370 | positive |\n| 54 | Female |  94 | 122 | 67 |  97 |   1.420 |  0.012 | negative |\n| 47 | Male   |  76 | 120 | 70 | 319 |   2.570 |  0.003 | negative |\n| 61 | Male   |  81 | 118 | 66 | 134 |   1.490 |  0.017 | positive |\n| 86 | Female |  73 | 114 | 68 |  87 |   1.110 |  0.776 | positive |\n| 45 | Female |  70 | 100 | 68 |  96 |   0.606 |  0.004 | negative |\n| 37 | Female |  72 | 107 | 86 | 274 |   2.890 |  0.003 | negative |\n| 45 | Male   |  60 | 109 | 65 |  89 |   1.600 |  0.020 | positive |\n| 60 | Male   |  92 | 151 | 78 | 301 |   1.600 |  0.005 | negative |\n| 48 | Male   | 135 |  98 | 60 | 100 |  94.790 |  0.004 | positive |\n| 52 | Male   |  76 | 109 | 85 | 227 |   0.665 |  0.491 | positive |\n| 30 | Male   |  63 | 110 | 68 | 107 |  50.460 |  0.003 | positive |\n| 50 | Male   |  63 | 104 | 63 | 269 |  38.720 |  0.612 | positive |\n| 72 | Male   |  64 | 106 | 68 | 111 |   2.110 |  1.390 | positive |\n| 42 | Male   |  65 | 150 | 68 | 101 |   2.930 |  0.003 | negative |\n| 72 | Female |  64 | 152 | 60 |  95 |   1.610 |  0.006 | negative |\n| 47 | Female |  66 | 134 | 57 | 279 | 300.000 |  0.007 | positive |\n| 63 | Male   |  66 | 135 | 55 | 166 |   0.493 | 10.000 | negative |\n| ⋮ | ⋮ | ⋮ | ⋮ | ⋮ | ⋮ | ⋮ | ⋮ | ⋮ |\n| 55 | Male   |  61 |  90 |  57 | 188 |  1.300 |  0.110 | positive |\n| 60 | Male   |  69 |  94 |  55 |  87 |  0.609 |  0.016 | positive |\n| 58 | Male   |  98 |  91 |  50 | 182 | 15.230 |  0.013 | positive |\n| 50 | Male   |  64 | 109 |  60 |  96 |  1.540 |  0.930 | positive |\n| 53 | Male   |  55 | 120 |  79 | 114 |  2.930 |  0.030 | positive |\n| 50 | Female |  79 |  92 |  55 | 415 | 16.950 |  0.005 | positive |\n| 64 | Female |  68 |  91 |  61 | 119 |  2.970 |  1.530 | positive |\n| 65 | Male   |  60 | 112 |  56 |  95 |  4.220 |  1.040 | positive |\n| 62 | Female |  60 | 145 |  67 | 208 |  1.290 |  0.009 | negative |\n| 67 | Female |  81 | 150 |  75 |  80 |  4.800 |  0.009 | negative |\n| 62 | Male   |  90 | 136 |  68 | 141 |  1.830 |  0.014 | negative |\n| 43 | Male   |  90 |  95 |  50 | 118 |  1.330 |  0.544 | positive |\n| 47 | Female |  58 |  93 |  78 | 170 |  1.190 |  0.068 | positive |\n| 40 | Male   |  57 | 208 |  40 | 108 |  2.110 |  0.003 | negative |\n| 55 | Female |  80 | 117 |  83 | 200 |  0.780 |  0.052 | positive |\n| 56 | Female |  68 | 123 |  70 | 102 |  2.280 |  0.255 | positive |\n| 47 | Male   |  71 | 117 |  61 | 140 |  4.390 |  1.370 | positive |\n| 60 | Female |  78 | 109 |  69 | 230 | 19.470 |  0.003 | positive |\n| 56 | Male   |  75 | 157 |  67 | 104 |  2.410 |  0.450 | positive |\n| 45 | Male   | 117 | 100 |  68 | 202 |  3.180 |  0.003 | negative |\n| 47 | Male   |  94 | 105 |  81 | 135 | 36.240 |  0.263 | positive |\n| 70 | Female |  80 | 135 |  75 | 351 |  2.210 | 10.000 | positive |\n| 85 | Male   | 112 | 115 |  69 | 114 |  2.190 |  0.062 | positive |\n| 48 | Male   |  84 | 118 |  68 |  96 |  5.330 |  0.006 | negative |\n| 86 | Female |  40 | 179 |  68 | 147 |  5.220 |  0.011 | negative |\n| 44 | Male   |  94 | 122 |  67 | 204 |  1.630 |  0.006 | negative |\n| 66 | Male   |  84 | 125 |  55 | 149 |  1.330 |  0.172 | positive |\n| 45 | Male   |  85 | 168 | 104 |  96 |  1.240 |  4.250 | positive |\n| 54 | Male   |  58 | 117 |  68 | 443 |  5.800 |  0.359 | positive |\n| 51 | Male   |  94 | 157 |  79 | 134 | 50.890 |  1.770 | positive |\n\n",
            "text/latex": "A data.frame: 1319 × 9\n\\begin{tabular}{lllllllll}\n Age & Gender & Heart.rate & Systolic.blood.pressure & Diastolic.blood.pressure & Blood.sugar & CK.MB & Troponin & Result\\\\\n <int> & <chr> & <int> & <int> & <int> & <dbl> & <dbl> & <dbl> & <chr>\\\\\n\\hline\n\t 64 & Male   &  66 & 160 & 83 & 160 &   1.800 &  0.012 & negative\\\\\n\t 21 & Male   &  94 &  98 & 46 & 296 &   6.750 &  1.060 & positive\\\\\n\t 55 & Male   &  64 & 160 & 77 & 270 &   1.990 &  0.003 & negative\\\\\n\t 64 & Male   &  70 & 120 & 55 & 270 &  13.870 &  0.122 & positive\\\\\n\t 55 & Male   &  64 & 112 & 65 & 300 &   1.080 &  0.003 & negative\\\\\n\t 58 & Female &  61 & 112 & 58 &  87 &   1.830 &  0.004 & negative\\\\\n\t 32 & Female &  40 & 179 & 68 & 102 &   0.710 &  0.003 & negative\\\\\n\t 63 & Male   &  60 & 214 & 82 &  87 & 300.000 &  2.370 & positive\\\\\n\t 44 & Female &  60 & 154 & 81 & 135 &   2.350 &  0.004 & negative\\\\\n\t 67 & Male   &  61 & 160 & 95 & 100 &   2.840 &  0.011 & negative\\\\\n\t 44 & Female &  60 & 166 & 90 & 102 &   2.390 &  0.006 & negative\\\\\n\t 63 & Female &  60 & 150 & 83 & 198 &   2.390 &  0.013 & negative\\\\\n\t 64 & Male   &  60 & 199 & 99 &  92 &   3.430 &  5.370 & positive\\\\\n\t 54 & Female &  94 & 122 & 67 &  97 &   1.420 &  0.012 & negative\\\\\n\t 47 & Male   &  76 & 120 & 70 & 319 &   2.570 &  0.003 & negative\\\\\n\t 61 & Male   &  81 & 118 & 66 & 134 &   1.490 &  0.017 & positive\\\\\n\t 86 & Female &  73 & 114 & 68 &  87 &   1.110 &  0.776 & positive\\\\\n\t 45 & Female &  70 & 100 & 68 &  96 &   0.606 &  0.004 & negative\\\\\n\t 37 & Female &  72 & 107 & 86 & 274 &   2.890 &  0.003 & negative\\\\\n\t 45 & Male   &  60 & 109 & 65 &  89 &   1.600 &  0.020 & positive\\\\\n\t 60 & Male   &  92 & 151 & 78 & 301 &   1.600 &  0.005 & negative\\\\\n\t 48 & Male   & 135 &  98 & 60 & 100 &  94.790 &  0.004 & positive\\\\\n\t 52 & Male   &  76 & 109 & 85 & 227 &   0.665 &  0.491 & positive\\\\\n\t 30 & Male   &  63 & 110 & 68 & 107 &  50.460 &  0.003 & positive\\\\\n\t 50 & Male   &  63 & 104 & 63 & 269 &  38.720 &  0.612 & positive\\\\\n\t 72 & Male   &  64 & 106 & 68 & 111 &   2.110 &  1.390 & positive\\\\\n\t 42 & Male   &  65 & 150 & 68 & 101 &   2.930 &  0.003 & negative\\\\\n\t 72 & Female &  64 & 152 & 60 &  95 &   1.610 &  0.006 & negative\\\\\n\t 47 & Female &  66 & 134 & 57 & 279 & 300.000 &  0.007 & positive\\\\\n\t 63 & Male   &  66 & 135 & 55 & 166 &   0.493 & 10.000 & negative\\\\\n\t ⋮ & ⋮ & ⋮ & ⋮ & ⋮ & ⋮ & ⋮ & ⋮ & ⋮\\\\\n\t 55 & Male   &  61 &  90 &  57 & 188 &  1.300 &  0.110 & positive\\\\\n\t 60 & Male   &  69 &  94 &  55 &  87 &  0.609 &  0.016 & positive\\\\\n\t 58 & Male   &  98 &  91 &  50 & 182 & 15.230 &  0.013 & positive\\\\\n\t 50 & Male   &  64 & 109 &  60 &  96 &  1.540 &  0.930 & positive\\\\\n\t 53 & Male   &  55 & 120 &  79 & 114 &  2.930 &  0.030 & positive\\\\\n\t 50 & Female &  79 &  92 &  55 & 415 & 16.950 &  0.005 & positive\\\\\n\t 64 & Female &  68 &  91 &  61 & 119 &  2.970 &  1.530 & positive\\\\\n\t 65 & Male   &  60 & 112 &  56 &  95 &  4.220 &  1.040 & positive\\\\\n\t 62 & Female &  60 & 145 &  67 & 208 &  1.290 &  0.009 & negative\\\\\n\t 67 & Female &  81 & 150 &  75 &  80 &  4.800 &  0.009 & negative\\\\\n\t 62 & Male   &  90 & 136 &  68 & 141 &  1.830 &  0.014 & negative\\\\\n\t 43 & Male   &  90 &  95 &  50 & 118 &  1.330 &  0.544 & positive\\\\\n\t 47 & Female &  58 &  93 &  78 & 170 &  1.190 &  0.068 & positive\\\\\n\t 40 & Male   &  57 & 208 &  40 & 108 &  2.110 &  0.003 & negative\\\\\n\t 55 & Female &  80 & 117 &  83 & 200 &  0.780 &  0.052 & positive\\\\\n\t 56 & Female &  68 & 123 &  70 & 102 &  2.280 &  0.255 & positive\\\\\n\t 47 & Male   &  71 & 117 &  61 & 140 &  4.390 &  1.370 & positive\\\\\n\t 60 & Female &  78 & 109 &  69 & 230 & 19.470 &  0.003 & positive\\\\\n\t 56 & Male   &  75 & 157 &  67 & 104 &  2.410 &  0.450 & positive\\\\\n\t 45 & Male   & 117 & 100 &  68 & 202 &  3.180 &  0.003 & negative\\\\\n\t 47 & Male   &  94 & 105 &  81 & 135 & 36.240 &  0.263 & positive\\\\\n\t 70 & Female &  80 & 135 &  75 & 351 &  2.210 & 10.000 & positive\\\\\n\t 85 & Male   & 112 & 115 &  69 & 114 &  2.190 &  0.062 & positive\\\\\n\t 48 & Male   &  84 & 118 &  68 &  96 &  5.330 &  0.006 & negative\\\\\n\t 86 & Female &  40 & 179 &  68 & 147 &  5.220 &  0.011 & negative\\\\\n\t 44 & Male   &  94 & 122 &  67 & 204 &  1.630 &  0.006 & negative\\\\\n\t 66 & Male   &  84 & 125 &  55 & 149 &  1.330 &  0.172 & positive\\\\\n\t 45 & Male   &  85 & 168 & 104 &  96 &  1.240 &  4.250 & positive\\\\\n\t 54 & Male   &  58 & 117 &  68 & 443 &  5.800 &  0.359 & positive\\\\\n\t 51 & Male   &  94 & 157 &  79 & 134 & 50.890 &  1.770 & positive\\\\\n\\end{tabular}\n"
          },
          "metadata": {}
        }
      ]
    },
    {
      "cell_type": "code",
      "source": [
        "install.packages(\"skimr\")\n",
        "library(skimr)"
      ],
      "metadata": {
        "id": "54QaYaybRIGk",
        "outputId": "c0f7369e-440e-4d9c-e6a0-0962b060ceed",
        "colab": {
          "base_uri": "https://localhost:8080/"
        }
      },
      "execution_count": null,
      "outputs": [
        {
          "output_type": "stream",
          "name": "stderr",
          "text": [
            "Installing package into ‘/usr/local/lib/R/site-library’\n",
            "(as ‘lib’ is unspecified)\n",
            "\n"
          ]
        }
      ]
    },
    {
      "cell_type": "code",
      "source": [
        "str(Medical)"
      ],
      "metadata": {
        "id": "nITrLXSoRNie",
        "outputId": "b252d9ae-d77b-4159-f8d5-867ac12ccd06",
        "colab": {
          "base_uri": "https://localhost:8080/"
        }
      },
      "execution_count": null,
      "outputs": [
        {
          "output_type": "stream",
          "name": "stdout",
          "text": [
            "'data.frame':\t1319 obs. of  9 variables:\n",
            " $ Age                     : int  64 21 55 64 55 58 32 63 44 67 ...\n",
            " $ Gender                  : chr  \"Male\" \"Male\" \"Male\" \"Male\" ...\n",
            " $ Heart.rate              : int  66 94 64 70 64 61 40 60 60 61 ...\n",
            " $ Systolic.blood.pressure : int  160 98 160 120 112 112 179 214 154 160 ...\n",
            " $ Diastolic.blood.pressure: int  83 46 77 55 65 58 68 82 81 95 ...\n",
            " $ Blood.sugar             : num  160 296 270 270 300 87 102 87 135 100 ...\n",
            " $ CK.MB                   : num  1.8 6.75 1.99 13.87 1.08 ...\n",
            " $ Troponin                : num  0.012 1.06 0.003 0.122 0.003 0.004 0.003 2.37 0.004 0.011 ...\n",
            " $ Result                  : chr  \"negative\" \"positive\" \"negative\" \"positive\" ...\n"
          ]
        }
      ]
    },
    {
      "cell_type": "code",
      "source": [
        "skim(Medical)"
      ],
      "metadata": {
        "id": "8F1zY1awRRN6",
        "outputId": "5fbe0867-b18a-4a69-c6fc-49abe242eac5",
        "colab": {
          "base_uri": "https://localhost:8080/",
          "height": 896
        }
      },
      "execution_count": null,
      "outputs": [
        {
          "output_type": "stream",
          "name": "stdout",
          "text": [
            "── Data Summary ────────────────────────\n",
            "                           Values \n",
            "Name                       Medical\n",
            "Number of rows             1319   \n",
            "Number of columns          9      \n",
            "_______________________           \n",
            "Column type frequency:            \n",
            "  character                2      \n",
            "  numeric                  7      \n",
            "________________________          \n",
            "Group variables            None   \n",
            "\n",
            "── Variable type: character ────────────────────────────────────────────────────\n",
            "  skim_variable n_missing complete_rate min max empty n_unique whitespace\n",
            "\u001b[90m1\u001b[39m Gender                0             1   4   6     0        2          0\n",
            "\u001b[90m2\u001b[39m Result                0             1   8   8     0        2          0\n",
            "\n",
            "── Variable type: numeric ──────────────────────────────────────────────────────\n",
            "  skim_variable            n_missing complete_rate    mean    sd     p0     p25\n",
            "\u001b[90m1\u001b[39m Age                              0             1  56.2   13.6  14      47    \n",
            "\u001b[90m2\u001b[39m Heart.rate                       0             1  76.1   15.4  20      64    \n",
            "\u001b[90m3\u001b[39m Systolic.blood.pressure          0             1 127.    26.1  42     110    \n",
            "\u001b[90m4\u001b[39m Diastolic.blood.pressure         0             1  72.3   14.0  38      62    \n",
            "\u001b[90m5\u001b[39m Blood.sugar                      0             1 147.    74.9  35      98    \n",
            "\u001b[90m6\u001b[39m CK.MB                            0             1  15.3   46.3   0.321   1.65 \n",
            "\u001b[90m7\u001b[39m Troponin                         0             1   0.361  1.15  0.001   0.006\n",
            "      p50      p75  p100 hist \n",
            "\u001b[90m1\u001b[39m  58      65      103   ▁▃▇▃▁\n",
            "\u001b[90m2\u001b[39m  74      85      135   ▁▅▇▂▁\n",
            "\u001b[90m3\u001b[39m 124     143      223   ▁▅▇▂▁\n",
            "\u001b[90m4\u001b[39m  72      81      154   ▃▇▂▁▁\n",
            "\u001b[90m5\u001b[39m 116     170.     541   ▇▃▁▁▁\n",
            "\u001b[90m6\u001b[39m   2.85    5.80   300   ▇▁▁▁▁\n",
            "\u001b[90m7\u001b[39m   0.014   0.085\u001b[4m5\u001b[24m  10.3 ▇▁▁▁▁\n"
          ]
        },
        {
          "output_type": "error",
          "ename": "ERROR",
          "evalue": "Error in is.null(text_repr) || nchar(text_repr) == 0L: 'length = 17' in coercion to 'logical(1)'\n",
          "traceback": [
            "Error in is.null(text_repr) || nchar(text_repr) == 0L: 'length = 17' in coercion to 'logical(1)'\nTraceback:\n",
            "1. prepare_mimebundle_kernel(obj, .self$handle_display_error)",
            "2. .handleSimpleError(function (cnd) \n . {\n .     watcher$capture_plot_and_output()\n .     cnd <- sanitize_call(cnd)\n .     watcher$push(cnd)\n .     switch(on_error, continue = invokeRestart(\"eval_continue\"), \n .         stop = invokeRestart(\"eval_stop\"), error = NULL)\n . }, \"'length = 17' in coercion to 'logical(1)'\", base::quote(is.null(text_repr) || \n .     nchar(text_repr) == 0L))"
          ]
        }
      ]
    },
    {
      "cell_type": "code",
      "source": [
        "Medical %>%\n",
        "  dplyr::select(Age, Gender, Heart.rate, Systolic.blood.pressure, Diastolic.blood.pressure, Blood.sugar, CK.MB, Troponin, Result ) %>%\n",
        "  dplyr::group_by(Result, Gender) %>%\n",
        "  skim()"
      ],
      "metadata": {
        "id": "VoLJhA9zRZsA",
        "outputId": "c2052824-c72b-409e-e8e7-fcae165dff59",
        "colab": {
          "base_uri": "https://localhost:8080/",
          "height": 1000
        }
      },
      "execution_count": null,
      "outputs": [
        {
          "output_type": "stream",
          "name": "stdout",
          "text": [
            "── Data Summary ────────────────────────\n",
            "                           Values        \n",
            "Name                       Piped data    \n",
            "Number of rows             1319          \n",
            "Number of columns          9             \n",
            "_______________________                  \n",
            "Column type frequency:                   \n",
            "  numeric                  7             \n",
            "________________________                 \n",
            "Group variables            Result, Gender\n",
            "\n",
            "── Variable type: numeric ──────────────────────────────────────────────────────\n",
            "   skim_variable            Result   Gender n_missing complete_rate      mean\n",
            "\u001b[90m 1\u001b[39m Age                      negative Female         0             1  53.8    \n",
            "\u001b[90m 2\u001b[39m Age                      negative Male           0             1  51.0    \n",
            "\u001b[90m 3\u001b[39m Age                      positive Female         0             1  61.3    \n",
            "\u001b[90m 4\u001b[39m Age                      positive Male           0             1  57.6    \n",
            "\u001b[90m 5\u001b[39m Heart.rate               negative Female         0             1  76.3    \n",
            "\u001b[90m 6\u001b[39m Heart.rate               negative Male           0             1  75.7    \n",
            "\u001b[90m 7\u001b[39m Heart.rate               positive Female         0             1  75.4    \n",
            "\u001b[90m 8\u001b[39m Heart.rate               positive Male           0             1  76.5    \n",
            "\u001b[90m 9\u001b[39m Systolic.blood.pressure  negative Female         0             1 128.     \n",
            "\u001b[90m10\u001b[39m Systolic.blood.pressure  negative Male           0             1 128.     \n",
            "\u001b[90m11\u001b[39m Systolic.blood.pressure  positive Female         0             1 126.     \n",
            "\u001b[90m12\u001b[39m Systolic.blood.pressure  positive Male           0             1 127.     \n",
            "\u001b[90m13\u001b[39m Diastolic.blood.pressure negative Female         0             1  72.8    \n",
            "\u001b[90m14\u001b[39m Diastolic.blood.pressure negative Male           0             1  72.2    \n",
            "\u001b[90m15\u001b[39m Diastolic.blood.pressure positive Female         0             1  72.2    \n",
            "\u001b[90m16\u001b[39m Diastolic.blood.pressure positive Male           0             1  72.2    \n",
            "\u001b[90m17\u001b[39m Blood.sugar              negative Female         0             1 142.     \n",
            "\u001b[90m18\u001b[39m Blood.sugar              negative Male           0             1 155.     \n",
            "\u001b[90m19\u001b[39m Blood.sugar              positive Female         0             1 150.     \n",
            "\u001b[90m20\u001b[39m Blood.sugar              positive Male           0             1 143.     \n",
            "\u001b[90m21\u001b[39m CK.MB                    negative Female         0             1   2.40   \n",
            "\u001b[90m22\u001b[39m CK.MB                    negative Male           0             1   2.66   \n",
            "\u001b[90m23\u001b[39m CK.MB                    positive Female         0             1  23.7    \n",
            "\u001b[90m24\u001b[39m CK.MB                    positive Male           0             1  23.1    \n",
            "\u001b[90m25\u001b[39m Troponin                 negative Female         0             1   0.006\u001b[4m4\u001b[24m\u001b[4m8\u001b[24m\n",
            "\u001b[90m26\u001b[39m Troponin                 negative Male           0             1   0.040\u001b[4m5\u001b[24m \n",
            "\u001b[90m27\u001b[39m Troponin                 positive Female         0             1   0.459  \n",
            "\u001b[90m28\u001b[39m Troponin                 positive Male           0             1   0.620  \n",
            "         sd     p0     p25     p50     p75    p100 hist \n",
            "\u001b[90m 1\u001b[39m 14.2     14      44      55      65      86     ▁▃▇▇▂\n",
            "\u001b[90m 2\u001b[39m 13.3     19      42      50      61      91     ▂▆▇▅▁\n",
            "\u001b[90m 3\u001b[39m 13.3     19      54      60      70     103     ▁▃▇▆▁\n",
            "\u001b[90m 4\u001b[39m 12.6     20      50      60      65     100     ▁▅▇▃▁\n",
            "\u001b[90m 5\u001b[39m 14.6     40      63      76      84     125     ▁▇▇▂▁\n",
            "\u001b[90m 6\u001b[39m 15.1     20      64      74      84     132     ▁▅▇▃▁\n",
            "\u001b[90m 7\u001b[39m 14.6     20      64      74      85     125     ▁▃▇▃▁\n",
            "\u001b[90m 8\u001b[39m 16.1     36      63      74      87     135     ▁▇▆▂▁\n",
            "\u001b[90m 9\u001b[39m 26.5     67     109.    125     144     220     ▂▇▆▂▁\n",
            "\u001b[90m10\u001b[39m 27.4     42     110     126     148.    223     ▁▅▇▃▁\n",
            "\u001b[90m11\u001b[39m 26.7     67     110.    121     140.    223     ▂▇▅▁▁\n",
            "\u001b[90m12\u001b[39m 25.0     65     110     123     140.    223     ▂▇▅▁▁\n",
            "\u001b[90m13\u001b[39m 13.7     44      62      72      82     128     ▅▇▆▁▁\n",
            "\u001b[90m14\u001b[39m 14.8     40      60      72      82     118     ▃▇▇▃▁\n",
            "\u001b[90m15\u001b[39m 13.9     40      62      70      80     128     ▂▇▅▁▁\n",
            "\u001b[90m16\u001b[39m 13.8     38      62      72      80     154     ▃▇▂▁▁\n",
            "\u001b[90m17\u001b[39m 69.5     67      96.2   114     164.    422     ▇▃▁▁▁\n",
            "\u001b[90m18\u001b[39m 83.4     60      99     118     189     541     ▇▃▁▁▁\n",
            "\u001b[90m19\u001b[39m 76.9     50      97     120     176     500     ▇▃▁▁▁\n",
            "\u001b[90m20\u001b[39m 70.7     35      98     115     162.    541     ▇▃▁▁▁\n",
            "\u001b[90m21\u001b[39m  1.22     0.321   1.5     2.13    3.20    7.02  ▇▇▅▂▁\n",
            "\u001b[90m22\u001b[39m  1.45     0.345   1.52    2.42    3.49    6.27  ▆▇▆▃▂\n",
            "\u001b[90m23\u001b[39m 56.1      0.452   1.94    4.73   15.8   300     ▇▁▁▁▁\n",
            "\u001b[90m24\u001b[39m 58.5      0.353   1.84    3.58   11.3   300     ▇▁▁▁▁\n",
            "\u001b[90m25\u001b[39m  0.003\u001b[4m3\u001b[24m\u001b[4m7\u001b[24m  0.002   0.003   0.006   0.009   0.014 ▇▃▅▂▂\n",
            "\u001b[90m26\u001b[39m  0.571    0.001   0.003   0.006   0.009  10     ▇▁▁▁▁\n",
            "\u001b[90m27\u001b[39m  1.35     0.003   0.012   0.03    0.144  10     ▇▁▁▁▁\n",
            "\u001b[90m28\u001b[39m  1.41     0.003   0.018   0.053   0.638  10.3   ▇▁▁▁▁\n"
          ]
        },
        {
          "output_type": "error",
          "ename": "ERROR",
          "evalue": "Error in is.null(text_repr) || nchar(text_repr) == 0L: 'length = 14' in coercion to 'logical(1)'\n",
          "traceback": [
            "Error in is.null(text_repr) || nchar(text_repr) == 0L: 'length = 14' in coercion to 'logical(1)'\nTraceback:\n",
            "1. prepare_mimebundle_kernel(obj, .self$handle_display_error)",
            "2. .handleSimpleError(function (cnd) \n . {\n .     watcher$capture_plot_and_output()\n .     cnd <- sanitize_call(cnd)\n .     watcher$push(cnd)\n .     switch(on_error, continue = invokeRestart(\"eval_continue\"), \n .         stop = invokeRestart(\"eval_stop\"), error = NULL)\n . }, \"'length = 14' in coercion to 'logical(1)'\", base::quote(is.null(text_repr) || \n .     nchar(text_repr) == 0L))"
          ]
        }
      ]
    },
    {
      "cell_type": "code",
      "source": [
        "Medical %>%\n",
        "  dplyr::select(Age, Heart.rate, Systolic.blood.pressure, Diastolic.blood.pressure, Blood.sugar, CK.MB, Troponin, Result ) %>%\n",
        "  dplyr::group_by(Result) %>%\n",
        "  skim()"
      ],
      "metadata": {
        "id": "Sr4y7mgYRj8J",
        "outputId": "d5426bab-5912-4b36-b36a-fbd53adf2143",
        "colab": {
          "base_uri": "https://localhost:8080/",
          "height": 1000
        }
      },
      "execution_count": null,
      "outputs": [
        {
          "output_type": "stream",
          "name": "stdout",
          "text": [
            "── Data Summary ────────────────────────\n",
            "                           Values    \n",
            "Name                       Piped data\n",
            "Number of rows             1319      \n",
            "Number of columns          8         \n",
            "_______________________              \n",
            "Column type frequency:               \n",
            "  numeric                  7         \n",
            "________________________             \n",
            "Group variables            Result    \n",
            "\n",
            "── Variable type: numeric ──────────────────────────────────────────────────────\n",
            "   skim_variable            Result   n_missing complete_rate     mean     sd\n",
            "\u001b[90m 1\u001b[39m Age                      negative         0             1  52.1    13.7  \n",
            "\u001b[90m 2\u001b[39m Age                      positive         0             1  58.8    13.0  \n",
            "\u001b[90m 3\u001b[39m Heart.rate               negative         0             1  75.9    14.9  \n",
            "\u001b[90m 4\u001b[39m Heart.rate               positive         0             1  76.2    15.6  \n",
            "\u001b[90m 5\u001b[39m Systolic.blood.pressure  negative         0             1 128.     27.0  \n",
            "\u001b[90m 6\u001b[39m Systolic.blood.pressure  positive         0             1 127.     25.5  \n",
            "\u001b[90m 7\u001b[39m Diastolic.blood.pressure negative         0             1  72.4    14.3  \n",
            "\u001b[90m 8\u001b[39m Diastolic.blood.pressure positive         0             1  72.2    13.9  \n",
            "\u001b[90m 9\u001b[39m Blood.sugar              negative         0             1 150.     78.4  \n",
            "\u001b[90m10\u001b[39m Blood.sugar              positive         0             1 145.     72.6  \n",
            "\u001b[90m11\u001b[39m CK.MB                    negative         0             1   2.56    1.37 \n",
            "\u001b[90m12\u001b[39m CK.MB                    positive         0             1  23.3    57.7  \n",
            "\u001b[90m13\u001b[39m Troponin                 negative         0             1   0.027\u001b[4m0\u001b[24m  0.443\n",
            "\u001b[90m14\u001b[39m Troponin                 positive         0             1   0.571   1.39 \n",
            "       p0     p25     p50     p75   p100 hist \n",
            "\u001b[90m 1\u001b[39m 14      42      52      63      91    ▁▅▇▆▁\n",
            "\u001b[90m 2\u001b[39m 19      50      60      68     103    ▁▅▇▃▁\n",
            "\u001b[90m 3\u001b[39m 20      64      75      84     132    ▁▅▇▃▁\n",
            "\u001b[90m 4\u001b[39m 20      64      74      85.8   135    ▁▆▇▃▁\n",
            "\u001b[90m 5\u001b[39m 42     110     125     147     223    ▁▅▇▃▁\n",
            "\u001b[90m 6\u001b[39m 65     110     122     141.    223    ▂▇▅▁▁\n",
            "\u001b[90m 7\u001b[39m 40      61      72      82     128    ▃▇▆▂▁\n",
            "\u001b[90m 8\u001b[39m 38      62      71      80     154    ▃▇▂▁▁\n",
            "\u001b[90m 9\u001b[39m 60      98     117     184     541    ▇▂▁▁▁\n",
            "\u001b[90m10\u001b[39m 35      98     116     166     541    ▇▃▁▁▁\n",
            "\u001b[90m11\u001b[39m  0.321   1.5     2.31    3.35    7.02 ▇▇▅▂▁\n",
            "\u001b[90m12\u001b[39m  0.353   1.87    3.78   12.2   300    ▇▁▁▁▁\n",
            "\u001b[90m13\u001b[39m  0.001   0.003   0.006   0.009  10    ▇▁▁▁▁\n",
            "\u001b[90m14\u001b[39m  0.003   0.016   0.044   0.456  10.3  ▇▁▁▁▁\n"
          ]
        },
        {
          "output_type": "error",
          "ename": "ERROR",
          "evalue": "Error in is.null(text_repr) || nchar(text_repr) == 0L: 'length = 13' in coercion to 'logical(1)'\n",
          "traceback": [
            "Error in is.null(text_repr) || nchar(text_repr) == 0L: 'length = 13' in coercion to 'logical(1)'\nTraceback:\n",
            "1. prepare_mimebundle_kernel(obj, .self$handle_display_error)",
            "2. .handleSimpleError(function (cnd) \n . {\n .     watcher$capture_plot_and_output()\n .     cnd <- sanitize_call(cnd)\n .     watcher$push(cnd)\n .     switch(on_error, continue = invokeRestart(\"eval_continue\"), \n .         stop = invokeRestart(\"eval_stop\"), error = NULL)\n . }, \"'length = 13' in coercion to 'logical(1)'\", base::quote(is.null(text_repr) || \n .     nchar(text_repr) == 0L))"
          ]
        }
      ]
    },
    {
      "cell_type": "code",
      "source": [
        "summary(Medical)"
      ],
      "metadata": {
        "colab": {
          "base_uri": "https://localhost:8080/",
          "height": 401
        },
        "id": "sr0oGdj3yV4C",
        "outputId": "e5edc10f-85dd-4fa8-90d4-cb374d7a78ca"
      },
      "execution_count": null,
      "outputs": [
        {
          "output_type": "display_data",
          "data": {
            "text/plain": [
              "      Age            Gender            Heart.rate     Systolic.blood.pressure\n",
              " Min.   : 14.00   Length:1319        Min.   : 20.00   Min.   : 42.0          \n",
              " 1st Qu.: 47.00   Class :character   1st Qu.: 64.00   1st Qu.:110.0          \n",
              " Median : 58.00   Mode  :character   Median : 74.00   Median :124.0          \n",
              " Mean   : 56.19                      Mean   : 76.06   Mean   :127.2          \n",
              " 3rd Qu.: 65.00                      3rd Qu.: 85.00   3rd Qu.:143.0          \n",
              " Max.   :103.00                      Max.   :135.00   Max.   :223.0          \n",
              " Diastolic.blood.pressure  Blood.sugar        CK.MB            Troponin      \n",
              " Min.   : 38.00           Min.   : 35.0   Min.   :  0.321   Min.   : 0.0010  \n",
              " 1st Qu.: 62.00           1st Qu.: 98.0   1st Qu.:  1.655   1st Qu.: 0.0060  \n",
              " Median : 72.00           Median :116.0   Median :  2.850   Median : 0.0140  \n",
              " Mean   : 72.27           Mean   :146.6   Mean   : 15.274   Mean   : 0.3609  \n",
              " 3rd Qu.: 81.00           3rd Qu.:169.5   3rd Qu.:  5.805   3rd Qu.: 0.0855  \n",
              " Max.   :154.00           Max.   :541.0   Max.   :300.000   Max.   :10.3000  \n",
              "    Result         \n",
              " Length:1319       \n",
              " Class :character  \n",
              " Mode  :character  \n",
              "                   \n",
              "                   \n",
              "                   "
            ]
          },
          "metadata": {}
        }
      ]
    }
  ],
  "metadata": {
    "colab": {
      "provenance": []
    },
    "kernelspec": {
      "display_name": "R",
      "name": "ir"
    },
    "language_info": {
      "name": "R"
    }
  },
  "nbformat": 4,
  "nbformat_minor": 0
}