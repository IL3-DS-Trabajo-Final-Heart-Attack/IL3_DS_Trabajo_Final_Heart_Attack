{
 "cells": [
  {
   "cell_type": "code",
   "execution_count": 4,
   "metadata": {
    "colab": {
     "base_uri": "https://localhost:8080/",
     "height": 34
    },
    "executionInfo": {
     "elapsed": 67,
     "status": "ok",
     "timestamp": 1751050743604,
     "user": {
      "displayName": "Alexín10",
      "userId": "17787641605367966968"
     },
     "user_tz": -120
    },
    "id": "eGFEHJULh6m0",
    "outputId": "2d89cc17-846d-4cbd-fe66-52060e4cfe93",
    "vscode": {
     "languageId": "r"
    }
   },
   "outputs": [
    {
     "data": {
      "text/html": [
       "'/content'"
      ],
      "text/latex": [
       "'/content'"
      ],
      "text/markdown": [
       "'/content'"
      ],
      "text/plain": [
       "[1] \"/content\""
      ]
     },
     "metadata": {},
     "output_type": "display_data"
    }
   ],
   "source": [
    "getwd()\n",
    "\n",
    "setwd('/content')\n"
   ]
  },
  {
   "cell_type": "code",
   "execution_count": 5,
   "metadata": {
    "colab": {
     "base_uri": "https://localhost:8080/",
     "height": 1000
    },
    "collapsed": true,
    "executionInfo": {
     "elapsed": 443,
     "status": "ok",
     "timestamp": 1751050763479,
     "user": {
      "displayName": "Alexín10",
      "userId": "17787641605367966968"
     },
     "user_tz": -120
    },
    "id": "y9QfCQfuiN2W",
    "outputId": "c05dcaca-141e-49d2-f2da-46ef0891cb6b",
    "vscode": {
     "languageId": "r"
    }
   },
   "outputs": [
    {
     "data": {
      "text/html": [
       "<table class=\"dataframe\">\n",
       "<caption>A data.frame: 1319 × 9</caption>\n",
       "<thead>\n",
       "\t<tr><th scope=col>Age</th><th scope=col>Gender</th><th scope=col>Heart.rate</th><th scope=col>Systolic.blood.pressure</th><th scope=col>Diastolic.blood.pressure</th><th scope=col>Blood.sugar</th><th scope=col>CK.MB</th><th scope=col>Troponin</th><th scope=col>Result</th></tr>\n",
       "\t<tr><th scope=col>&lt;int&gt;</th><th scope=col>&lt;chr&gt;</th><th scope=col>&lt;int&gt;</th><th scope=col>&lt;int&gt;</th><th scope=col>&lt;int&gt;</th><th scope=col>&lt;dbl&gt;</th><th scope=col>&lt;dbl&gt;</th><th scope=col>&lt;dbl&gt;</th><th scope=col>&lt;chr&gt;</th></tr>\n",
       "</thead>\n",
       "<tbody>\n",
       "\t<tr><td>64</td><td>Male  </td><td> 66</td><td>160</td><td>83</td><td>160</td><td>  1.800</td><td> 0.012</td><td>negative</td></tr>\n",
       "\t<tr><td>21</td><td>Male  </td><td> 94</td><td> 98</td><td>46</td><td>296</td><td>  6.750</td><td> 1.060</td><td>positive</td></tr>\n",
       "\t<tr><td>55</td><td>Male  </td><td> 64</td><td>160</td><td>77</td><td>270</td><td>  1.990</td><td> 0.003</td><td>negative</td></tr>\n",
       "\t<tr><td>64</td><td>Male  </td><td> 70</td><td>120</td><td>55</td><td>270</td><td> 13.870</td><td> 0.122</td><td>positive</td></tr>\n",
       "\t<tr><td>55</td><td>Male  </td><td> 64</td><td>112</td><td>65</td><td>300</td><td>  1.080</td><td> 0.003</td><td>negative</td></tr>\n",
       "\t<tr><td>58</td><td>Female</td><td> 61</td><td>112</td><td>58</td><td> 87</td><td>  1.830</td><td> 0.004</td><td>negative</td></tr>\n",
       "\t<tr><td>32</td><td>Female</td><td> 40</td><td>179</td><td>68</td><td>102</td><td>  0.710</td><td> 0.003</td><td>negative</td></tr>\n",
       "\t<tr><td>63</td><td>Male  </td><td> 60</td><td>214</td><td>82</td><td> 87</td><td>300.000</td><td> 2.370</td><td>positive</td></tr>\n",
       "\t<tr><td>44</td><td>Female</td><td> 60</td><td>154</td><td>81</td><td>135</td><td>  2.350</td><td> 0.004</td><td>negative</td></tr>\n",
       "\t<tr><td>67</td><td>Male  </td><td> 61</td><td>160</td><td>95</td><td>100</td><td>  2.840</td><td> 0.011</td><td>negative</td></tr>\n",
       "\t<tr><td>44</td><td>Female</td><td> 60</td><td>166</td><td>90</td><td>102</td><td>  2.390</td><td> 0.006</td><td>negative</td></tr>\n",
       "\t<tr><td>63</td><td>Female</td><td> 60</td><td>150</td><td>83</td><td>198</td><td>  2.390</td><td> 0.013</td><td>negative</td></tr>\n",
       "\t<tr><td>64</td><td>Male  </td><td> 60</td><td>199</td><td>99</td><td> 92</td><td>  3.430</td><td> 5.370</td><td>positive</td></tr>\n",
       "\t<tr><td>54</td><td>Female</td><td> 94</td><td>122</td><td>67</td><td> 97</td><td>  1.420</td><td> 0.012</td><td>negative</td></tr>\n",
       "\t<tr><td>47</td><td>Male  </td><td> 76</td><td>120</td><td>70</td><td>319</td><td>  2.570</td><td> 0.003</td><td>negative</td></tr>\n",
       "\t<tr><td>61</td><td>Male  </td><td> 81</td><td>118</td><td>66</td><td>134</td><td>  1.490</td><td> 0.017</td><td>positive</td></tr>\n",
       "\t<tr><td>86</td><td>Female</td><td> 73</td><td>114</td><td>68</td><td> 87</td><td>  1.110</td><td> 0.776</td><td>positive</td></tr>\n",
       "\t<tr><td>45</td><td>Female</td><td> 70</td><td>100</td><td>68</td><td> 96</td><td>  0.606</td><td> 0.004</td><td>negative</td></tr>\n",
       "\t<tr><td>37</td><td>Female</td><td> 72</td><td>107</td><td>86</td><td>274</td><td>  2.890</td><td> 0.003</td><td>negative</td></tr>\n",
       "\t<tr><td>45</td><td>Male  </td><td> 60</td><td>109</td><td>65</td><td> 89</td><td>  1.600</td><td> 0.020</td><td>positive</td></tr>\n",
       "\t<tr><td>60</td><td>Male  </td><td> 92</td><td>151</td><td>78</td><td>301</td><td>  1.600</td><td> 0.005</td><td>negative</td></tr>\n",
       "\t<tr><td>48</td><td>Male  </td><td>135</td><td> 98</td><td>60</td><td>100</td><td> 94.790</td><td> 0.004</td><td>positive</td></tr>\n",
       "\t<tr><td>52</td><td>Male  </td><td> 76</td><td>109</td><td>85</td><td>227</td><td>  0.665</td><td> 0.491</td><td>positive</td></tr>\n",
       "\t<tr><td>30</td><td>Male  </td><td> 63</td><td>110</td><td>68</td><td>107</td><td> 50.460</td><td> 0.003</td><td>positive</td></tr>\n",
       "\t<tr><td>50</td><td>Male  </td><td> 63</td><td>104</td><td>63</td><td>269</td><td> 38.720</td><td> 0.612</td><td>positive</td></tr>\n",
       "\t<tr><td>72</td><td>Male  </td><td> 64</td><td>106</td><td>68</td><td>111</td><td>  2.110</td><td> 1.390</td><td>positive</td></tr>\n",
       "\t<tr><td>42</td><td>Male  </td><td> 65</td><td>150</td><td>68</td><td>101</td><td>  2.930</td><td> 0.003</td><td>negative</td></tr>\n",
       "\t<tr><td>72</td><td>Female</td><td> 64</td><td>152</td><td>60</td><td> 95</td><td>  1.610</td><td> 0.006</td><td>negative</td></tr>\n",
       "\t<tr><td>47</td><td>Female</td><td> 66</td><td>134</td><td>57</td><td>279</td><td>300.000</td><td> 0.007</td><td>positive</td></tr>\n",
       "\t<tr><td>63</td><td>Male  </td><td> 66</td><td>135</td><td>55</td><td>166</td><td>  0.493</td><td>10.000</td><td>negative</td></tr>\n",
       "\t<tr><td>⋮</td><td>⋮</td><td>⋮</td><td>⋮</td><td>⋮</td><td>⋮</td><td>⋮</td><td>⋮</td><td>⋮</td></tr>\n",
       "\t<tr><td>55</td><td>Male  </td><td> 61</td><td> 90</td><td> 57</td><td>188</td><td> 1.300</td><td> 0.110</td><td>positive</td></tr>\n",
       "\t<tr><td>60</td><td>Male  </td><td> 69</td><td> 94</td><td> 55</td><td> 87</td><td> 0.609</td><td> 0.016</td><td>positive</td></tr>\n",
       "\t<tr><td>58</td><td>Male  </td><td> 98</td><td> 91</td><td> 50</td><td>182</td><td>15.230</td><td> 0.013</td><td>positive</td></tr>\n",
       "\t<tr><td>50</td><td>Male  </td><td> 64</td><td>109</td><td> 60</td><td> 96</td><td> 1.540</td><td> 0.930</td><td>positive</td></tr>\n",
       "\t<tr><td>53</td><td>Male  </td><td> 55</td><td>120</td><td> 79</td><td>114</td><td> 2.930</td><td> 0.030</td><td>positive</td></tr>\n",
       "\t<tr><td>50</td><td>Female</td><td> 79</td><td> 92</td><td> 55</td><td>415</td><td>16.950</td><td> 0.005</td><td>positive</td></tr>\n",
       "\t<tr><td>64</td><td>Female</td><td> 68</td><td> 91</td><td> 61</td><td>119</td><td> 2.970</td><td> 1.530</td><td>positive</td></tr>\n",
       "\t<tr><td>65</td><td>Male  </td><td> 60</td><td>112</td><td> 56</td><td> 95</td><td> 4.220</td><td> 1.040</td><td>positive</td></tr>\n",
       "\t<tr><td>62</td><td>Female</td><td> 60</td><td>145</td><td> 67</td><td>208</td><td> 1.290</td><td> 0.009</td><td>negative</td></tr>\n",
       "\t<tr><td>67</td><td>Female</td><td> 81</td><td>150</td><td> 75</td><td> 80</td><td> 4.800</td><td> 0.009</td><td>negative</td></tr>\n",
       "\t<tr><td>62</td><td>Male  </td><td> 90</td><td>136</td><td> 68</td><td>141</td><td> 1.830</td><td> 0.014</td><td>negative</td></tr>\n",
       "\t<tr><td>43</td><td>Male  </td><td> 90</td><td> 95</td><td> 50</td><td>118</td><td> 1.330</td><td> 0.544</td><td>positive</td></tr>\n",
       "\t<tr><td>47</td><td>Female</td><td> 58</td><td> 93</td><td> 78</td><td>170</td><td> 1.190</td><td> 0.068</td><td>positive</td></tr>\n",
       "\t<tr><td>40</td><td>Male  </td><td> 57</td><td>208</td><td> 40</td><td>108</td><td> 2.110</td><td> 0.003</td><td>negative</td></tr>\n",
       "\t<tr><td>55</td><td>Female</td><td> 80</td><td>117</td><td> 83</td><td>200</td><td> 0.780</td><td> 0.052</td><td>positive</td></tr>\n",
       "\t<tr><td>56</td><td>Female</td><td> 68</td><td>123</td><td> 70</td><td>102</td><td> 2.280</td><td> 0.255</td><td>positive</td></tr>\n",
       "\t<tr><td>47</td><td>Male  </td><td> 71</td><td>117</td><td> 61</td><td>140</td><td> 4.390</td><td> 1.370</td><td>positive</td></tr>\n",
       "\t<tr><td>60</td><td>Female</td><td> 78</td><td>109</td><td> 69</td><td>230</td><td>19.470</td><td> 0.003</td><td>positive</td></tr>\n",
       "\t<tr><td>56</td><td>Male  </td><td> 75</td><td>157</td><td> 67</td><td>104</td><td> 2.410</td><td> 0.450</td><td>positive</td></tr>\n",
       "\t<tr><td>45</td><td>Male  </td><td>117</td><td>100</td><td> 68</td><td>202</td><td> 3.180</td><td> 0.003</td><td>negative</td></tr>\n",
       "\t<tr><td>47</td><td>Male  </td><td> 94</td><td>105</td><td> 81</td><td>135</td><td>36.240</td><td> 0.263</td><td>positive</td></tr>\n",
       "\t<tr><td>70</td><td>Female</td><td> 80</td><td>135</td><td> 75</td><td>351</td><td> 2.210</td><td>10.000</td><td>positive</td></tr>\n",
       "\t<tr><td>85</td><td>Male  </td><td>112</td><td>115</td><td> 69</td><td>114</td><td> 2.190</td><td> 0.062</td><td>positive</td></tr>\n",
       "\t<tr><td>48</td><td>Male  </td><td> 84</td><td>118</td><td> 68</td><td> 96</td><td> 5.330</td><td> 0.006</td><td>negative</td></tr>\n",
       "\t<tr><td>86</td><td>Female</td><td> 40</td><td>179</td><td> 68</td><td>147</td><td> 5.220</td><td> 0.011</td><td>negative</td></tr>\n",
       "\t<tr><td>44</td><td>Male  </td><td> 94</td><td>122</td><td> 67</td><td>204</td><td> 1.630</td><td> 0.006</td><td>negative</td></tr>\n",
       "\t<tr><td>66</td><td>Male  </td><td> 84</td><td>125</td><td> 55</td><td>149</td><td> 1.330</td><td> 0.172</td><td>positive</td></tr>\n",
       "\t<tr><td>45</td><td>Male  </td><td> 85</td><td>168</td><td>104</td><td> 96</td><td> 1.240</td><td> 4.250</td><td>positive</td></tr>\n",
       "\t<tr><td>54</td><td>Male  </td><td> 58</td><td>117</td><td> 68</td><td>443</td><td> 5.800</td><td> 0.359</td><td>positive</td></tr>\n",
       "\t<tr><td>51</td><td>Male  </td><td> 94</td><td>157</td><td> 79</td><td>134</td><td>50.890</td><td> 1.770</td><td>positive</td></tr>\n",
       "</tbody>\n",
       "</table>\n"
      ],
      "text/latex": [
       "A data.frame: 1319 × 9\n",
       "\\begin{tabular}{lllllllll}\n",
       " Age & Gender & Heart.rate & Systolic.blood.pressure & Diastolic.blood.pressure & Blood.sugar & CK.MB & Troponin & Result\\\\\n",
       " <int> & <chr> & <int> & <int> & <int> & <dbl> & <dbl> & <dbl> & <chr>\\\\\n",
       "\\hline\n",
       "\t 64 & Male   &  66 & 160 & 83 & 160 &   1.800 &  0.012 & negative\\\\\n",
       "\t 21 & Male   &  94 &  98 & 46 & 296 &   6.750 &  1.060 & positive\\\\\n",
       "\t 55 & Male   &  64 & 160 & 77 & 270 &   1.990 &  0.003 & negative\\\\\n",
       "\t 64 & Male   &  70 & 120 & 55 & 270 &  13.870 &  0.122 & positive\\\\\n",
       "\t 55 & Male   &  64 & 112 & 65 & 300 &   1.080 &  0.003 & negative\\\\\n",
       "\t 58 & Female &  61 & 112 & 58 &  87 &   1.830 &  0.004 & negative\\\\\n",
       "\t 32 & Female &  40 & 179 & 68 & 102 &   0.710 &  0.003 & negative\\\\\n",
       "\t 63 & Male   &  60 & 214 & 82 &  87 & 300.000 &  2.370 & positive\\\\\n",
       "\t 44 & Female &  60 & 154 & 81 & 135 &   2.350 &  0.004 & negative\\\\\n",
       "\t 67 & Male   &  61 & 160 & 95 & 100 &   2.840 &  0.011 & negative\\\\\n",
       "\t 44 & Female &  60 & 166 & 90 & 102 &   2.390 &  0.006 & negative\\\\\n",
       "\t 63 & Female &  60 & 150 & 83 & 198 &   2.390 &  0.013 & negative\\\\\n",
       "\t 64 & Male   &  60 & 199 & 99 &  92 &   3.430 &  5.370 & positive\\\\\n",
       "\t 54 & Female &  94 & 122 & 67 &  97 &   1.420 &  0.012 & negative\\\\\n",
       "\t 47 & Male   &  76 & 120 & 70 & 319 &   2.570 &  0.003 & negative\\\\\n",
       "\t 61 & Male   &  81 & 118 & 66 & 134 &   1.490 &  0.017 & positive\\\\\n",
       "\t 86 & Female &  73 & 114 & 68 &  87 &   1.110 &  0.776 & positive\\\\\n",
       "\t 45 & Female &  70 & 100 & 68 &  96 &   0.606 &  0.004 & negative\\\\\n",
       "\t 37 & Female &  72 & 107 & 86 & 274 &   2.890 &  0.003 & negative\\\\\n",
       "\t 45 & Male   &  60 & 109 & 65 &  89 &   1.600 &  0.020 & positive\\\\\n",
       "\t 60 & Male   &  92 & 151 & 78 & 301 &   1.600 &  0.005 & negative\\\\\n",
       "\t 48 & Male   & 135 &  98 & 60 & 100 &  94.790 &  0.004 & positive\\\\\n",
       "\t 52 & Male   &  76 & 109 & 85 & 227 &   0.665 &  0.491 & positive\\\\\n",
       "\t 30 & Male   &  63 & 110 & 68 & 107 &  50.460 &  0.003 & positive\\\\\n",
       "\t 50 & Male   &  63 & 104 & 63 & 269 &  38.720 &  0.612 & positive\\\\\n",
       "\t 72 & Male   &  64 & 106 & 68 & 111 &   2.110 &  1.390 & positive\\\\\n",
       "\t 42 & Male   &  65 & 150 & 68 & 101 &   2.930 &  0.003 & negative\\\\\n",
       "\t 72 & Female &  64 & 152 & 60 &  95 &   1.610 &  0.006 & negative\\\\\n",
       "\t 47 & Female &  66 & 134 & 57 & 279 & 300.000 &  0.007 & positive\\\\\n",
       "\t 63 & Male   &  66 & 135 & 55 & 166 &   0.493 & 10.000 & negative\\\\\n",
       "\t ⋮ & ⋮ & ⋮ & ⋮ & ⋮ & ⋮ & ⋮ & ⋮ & ⋮\\\\\n",
       "\t 55 & Male   &  61 &  90 &  57 & 188 &  1.300 &  0.110 & positive\\\\\n",
       "\t 60 & Male   &  69 &  94 &  55 &  87 &  0.609 &  0.016 & positive\\\\\n",
       "\t 58 & Male   &  98 &  91 &  50 & 182 & 15.230 &  0.013 & positive\\\\\n",
       "\t 50 & Male   &  64 & 109 &  60 &  96 &  1.540 &  0.930 & positive\\\\\n",
       "\t 53 & Male   &  55 & 120 &  79 & 114 &  2.930 &  0.030 & positive\\\\\n",
       "\t 50 & Female &  79 &  92 &  55 & 415 & 16.950 &  0.005 & positive\\\\\n",
       "\t 64 & Female &  68 &  91 &  61 & 119 &  2.970 &  1.530 & positive\\\\\n",
       "\t 65 & Male   &  60 & 112 &  56 &  95 &  4.220 &  1.040 & positive\\\\\n",
       "\t 62 & Female &  60 & 145 &  67 & 208 &  1.290 &  0.009 & negative\\\\\n",
       "\t 67 & Female &  81 & 150 &  75 &  80 &  4.800 &  0.009 & negative\\\\\n",
       "\t 62 & Male   &  90 & 136 &  68 & 141 &  1.830 &  0.014 & negative\\\\\n",
       "\t 43 & Male   &  90 &  95 &  50 & 118 &  1.330 &  0.544 & positive\\\\\n",
       "\t 47 & Female &  58 &  93 &  78 & 170 &  1.190 &  0.068 & positive\\\\\n",
       "\t 40 & Male   &  57 & 208 &  40 & 108 &  2.110 &  0.003 & negative\\\\\n",
       "\t 55 & Female &  80 & 117 &  83 & 200 &  0.780 &  0.052 & positive\\\\\n",
       "\t 56 & Female &  68 & 123 &  70 & 102 &  2.280 &  0.255 & positive\\\\\n",
       "\t 47 & Male   &  71 & 117 &  61 & 140 &  4.390 &  1.370 & positive\\\\\n",
       "\t 60 & Female &  78 & 109 &  69 & 230 & 19.470 &  0.003 & positive\\\\\n",
       "\t 56 & Male   &  75 & 157 &  67 & 104 &  2.410 &  0.450 & positive\\\\\n",
       "\t 45 & Male   & 117 & 100 &  68 & 202 &  3.180 &  0.003 & negative\\\\\n",
       "\t 47 & Male   &  94 & 105 &  81 & 135 & 36.240 &  0.263 & positive\\\\\n",
       "\t 70 & Female &  80 & 135 &  75 & 351 &  2.210 & 10.000 & positive\\\\\n",
       "\t 85 & Male   & 112 & 115 &  69 & 114 &  2.190 &  0.062 & positive\\\\\n",
       "\t 48 & Male   &  84 & 118 &  68 &  96 &  5.330 &  0.006 & negative\\\\\n",
       "\t 86 & Female &  40 & 179 &  68 & 147 &  5.220 &  0.011 & negative\\\\\n",
       "\t 44 & Male   &  94 & 122 &  67 & 204 &  1.630 &  0.006 & negative\\\\\n",
       "\t 66 & Male   &  84 & 125 &  55 & 149 &  1.330 &  0.172 & positive\\\\\n",
       "\t 45 & Male   &  85 & 168 & 104 &  96 &  1.240 &  4.250 & positive\\\\\n",
       "\t 54 & Male   &  58 & 117 &  68 & 443 &  5.800 &  0.359 & positive\\\\\n",
       "\t 51 & Male   &  94 & 157 &  79 & 134 & 50.890 &  1.770 & positive\\\\\n",
       "\\end{tabular}\n"
      ],
      "text/markdown": [
       "\n",
       "A data.frame: 1319 × 9\n",
       "\n",
       "| Age &lt;int&gt; | Gender &lt;chr&gt; | Heart.rate &lt;int&gt; | Systolic.blood.pressure &lt;int&gt; | Diastolic.blood.pressure &lt;int&gt; | Blood.sugar &lt;dbl&gt; | CK.MB &lt;dbl&gt; | Troponin &lt;dbl&gt; | Result &lt;chr&gt; |\n",
       "|---|---|---|---|---|---|---|---|---|\n",
       "| 64 | Male   |  66 | 160 | 83 | 160 |   1.800 |  0.012 | negative |\n",
       "| 21 | Male   |  94 |  98 | 46 | 296 |   6.750 |  1.060 | positive |\n",
       "| 55 | Male   |  64 | 160 | 77 | 270 |   1.990 |  0.003 | negative |\n",
       "| 64 | Male   |  70 | 120 | 55 | 270 |  13.870 |  0.122 | positive |\n",
       "| 55 | Male   |  64 | 112 | 65 | 300 |   1.080 |  0.003 | negative |\n",
       "| 58 | Female |  61 | 112 | 58 |  87 |   1.830 |  0.004 | negative |\n",
       "| 32 | Female |  40 | 179 | 68 | 102 |   0.710 |  0.003 | negative |\n",
       "| 63 | Male   |  60 | 214 | 82 |  87 | 300.000 |  2.370 | positive |\n",
       "| 44 | Female |  60 | 154 | 81 | 135 |   2.350 |  0.004 | negative |\n",
       "| 67 | Male   |  61 | 160 | 95 | 100 |   2.840 |  0.011 | negative |\n",
       "| 44 | Female |  60 | 166 | 90 | 102 |   2.390 |  0.006 | negative |\n",
       "| 63 | Female |  60 | 150 | 83 | 198 |   2.390 |  0.013 | negative |\n",
       "| 64 | Male   |  60 | 199 | 99 |  92 |   3.430 |  5.370 | positive |\n",
       "| 54 | Female |  94 | 122 | 67 |  97 |   1.420 |  0.012 | negative |\n",
       "| 47 | Male   |  76 | 120 | 70 | 319 |   2.570 |  0.003 | negative |\n",
       "| 61 | Male   |  81 | 118 | 66 | 134 |   1.490 |  0.017 | positive |\n",
       "| 86 | Female |  73 | 114 | 68 |  87 |   1.110 |  0.776 | positive |\n",
       "| 45 | Female |  70 | 100 | 68 |  96 |   0.606 |  0.004 | negative |\n",
       "| 37 | Female |  72 | 107 | 86 | 274 |   2.890 |  0.003 | negative |\n",
       "| 45 | Male   |  60 | 109 | 65 |  89 |   1.600 |  0.020 | positive |\n",
       "| 60 | Male   |  92 | 151 | 78 | 301 |   1.600 |  0.005 | negative |\n",
       "| 48 | Male   | 135 |  98 | 60 | 100 |  94.790 |  0.004 | positive |\n",
       "| 52 | Male   |  76 | 109 | 85 | 227 |   0.665 |  0.491 | positive |\n",
       "| 30 | Male   |  63 | 110 | 68 | 107 |  50.460 |  0.003 | positive |\n",
       "| 50 | Male   |  63 | 104 | 63 | 269 |  38.720 |  0.612 | positive |\n",
       "| 72 | Male   |  64 | 106 | 68 | 111 |   2.110 |  1.390 | positive |\n",
       "| 42 | Male   |  65 | 150 | 68 | 101 |   2.930 |  0.003 | negative |\n",
       "| 72 | Female |  64 | 152 | 60 |  95 |   1.610 |  0.006 | negative |\n",
       "| 47 | Female |  66 | 134 | 57 | 279 | 300.000 |  0.007 | positive |\n",
       "| 63 | Male   |  66 | 135 | 55 | 166 |   0.493 | 10.000 | negative |\n",
       "| ⋮ | ⋮ | ⋮ | ⋮ | ⋮ | ⋮ | ⋮ | ⋮ | ⋮ |\n",
       "| 55 | Male   |  61 |  90 |  57 | 188 |  1.300 |  0.110 | positive |\n",
       "| 60 | Male   |  69 |  94 |  55 |  87 |  0.609 |  0.016 | positive |\n",
       "| 58 | Male   |  98 |  91 |  50 | 182 | 15.230 |  0.013 | positive |\n",
       "| 50 | Male   |  64 | 109 |  60 |  96 |  1.540 |  0.930 | positive |\n",
       "| 53 | Male   |  55 | 120 |  79 | 114 |  2.930 |  0.030 | positive |\n",
       "| 50 | Female |  79 |  92 |  55 | 415 | 16.950 |  0.005 | positive |\n",
       "| 64 | Female |  68 |  91 |  61 | 119 |  2.970 |  1.530 | positive |\n",
       "| 65 | Male   |  60 | 112 |  56 |  95 |  4.220 |  1.040 | positive |\n",
       "| 62 | Female |  60 | 145 |  67 | 208 |  1.290 |  0.009 | negative |\n",
       "| 67 | Female |  81 | 150 |  75 |  80 |  4.800 |  0.009 | negative |\n",
       "| 62 | Male   |  90 | 136 |  68 | 141 |  1.830 |  0.014 | negative |\n",
       "| 43 | Male   |  90 |  95 |  50 | 118 |  1.330 |  0.544 | positive |\n",
       "| 47 | Female |  58 |  93 |  78 | 170 |  1.190 |  0.068 | positive |\n",
       "| 40 | Male   |  57 | 208 |  40 | 108 |  2.110 |  0.003 | negative |\n",
       "| 55 | Female |  80 | 117 |  83 | 200 |  0.780 |  0.052 | positive |\n",
       "| 56 | Female |  68 | 123 |  70 | 102 |  2.280 |  0.255 | positive |\n",
       "| 47 | Male   |  71 | 117 |  61 | 140 |  4.390 |  1.370 | positive |\n",
       "| 60 | Female |  78 | 109 |  69 | 230 | 19.470 |  0.003 | positive |\n",
       "| 56 | Male   |  75 | 157 |  67 | 104 |  2.410 |  0.450 | positive |\n",
       "| 45 | Male   | 117 | 100 |  68 | 202 |  3.180 |  0.003 | negative |\n",
       "| 47 | Male   |  94 | 105 |  81 | 135 | 36.240 |  0.263 | positive |\n",
       "| 70 | Female |  80 | 135 |  75 | 351 |  2.210 | 10.000 | positive |\n",
       "| 85 | Male   | 112 | 115 |  69 | 114 |  2.190 |  0.062 | positive |\n",
       "| 48 | Male   |  84 | 118 |  68 |  96 |  5.330 |  0.006 | negative |\n",
       "| 86 | Female |  40 | 179 |  68 | 147 |  5.220 |  0.011 | negative |\n",
       "| 44 | Male   |  94 | 122 |  67 | 204 |  1.630 |  0.006 | negative |\n",
       "| 66 | Male   |  84 | 125 |  55 | 149 |  1.330 |  0.172 | positive |\n",
       "| 45 | Male   |  85 | 168 | 104 |  96 |  1.240 |  4.250 | positive |\n",
       "| 54 | Male   |  58 | 117 |  68 | 443 |  5.800 |  0.359 | positive |\n",
       "| 51 | Male   |  94 | 157 |  79 | 134 | 50.890 |  1.770 | positive |\n",
       "\n"
      ],
      "text/plain": [
       "     Age Gender Heart.rate Systolic.blood.pressure Diastolic.blood.pressure\n",
       "1    64  Male    66        160                     83                      \n",
       "2    21  Male    94         98                     46                      \n",
       "3    55  Male    64        160                     77                      \n",
       "4    64  Male    70        120                     55                      \n",
       "5    55  Male    64        112                     65                      \n",
       "6    58  Female  61        112                     58                      \n",
       "7    32  Female  40        179                     68                      \n",
       "8    63  Male    60        214                     82                      \n",
       "9    44  Female  60        154                     81                      \n",
       "10   67  Male    61        160                     95                      \n",
       "11   44  Female  60        166                     90                      \n",
       "12   63  Female  60        150                     83                      \n",
       "13   64  Male    60        199                     99                      \n",
       "14   54  Female  94        122                     67                      \n",
       "15   47  Male    76        120                     70                      \n",
       "16   61  Male    81        118                     66                      \n",
       "17   86  Female  73        114                     68                      \n",
       "18   45  Female  70        100                     68                      \n",
       "19   37  Female  72        107                     86                      \n",
       "20   45  Male    60        109                     65                      \n",
       "21   60  Male    92        151                     78                      \n",
       "22   48  Male   135         98                     60                      \n",
       "23   52  Male    76        109                     85                      \n",
       "24   30  Male    63        110                     68                      \n",
       "25   50  Male    63        104                     63                      \n",
       "26   72  Male    64        106                     68                      \n",
       "27   42  Male    65        150                     68                      \n",
       "28   72  Female  64        152                     60                      \n",
       "29   47  Female  66        134                     57                      \n",
       "30   63  Male    66        135                     55                      \n",
       "⋮    ⋮   ⋮      ⋮          ⋮                       ⋮                       \n",
       "1290 55  Male    61         90                      57                     \n",
       "1291 60  Male    69         94                      55                     \n",
       "1292 58  Male    98         91                      50                     \n",
       "1293 50  Male    64        109                      60                     \n",
       "1294 53  Male    55        120                      79                     \n",
       "1295 50  Female  79         92                      55                     \n",
       "1296 64  Female  68         91                      61                     \n",
       "1297 65  Male    60        112                      56                     \n",
       "1298 62  Female  60        145                      67                     \n",
       "1299 67  Female  81        150                      75                     \n",
       "1300 62  Male    90        136                      68                     \n",
       "1301 43  Male    90         95                      50                     \n",
       "1302 47  Female  58         93                      78                     \n",
       "1303 40  Male    57        208                      40                     \n",
       "1304 55  Female  80        117                      83                     \n",
       "1305 56  Female  68        123                      70                     \n",
       "1306 47  Male    71        117                      61                     \n",
       "1307 60  Female  78        109                      69                     \n",
       "1308 56  Male    75        157                      67                     \n",
       "1309 45  Male   117        100                      68                     \n",
       "1310 47  Male    94        105                      81                     \n",
       "1311 70  Female  80        135                      75                     \n",
       "1312 85  Male   112        115                      69                     \n",
       "1313 48  Male    84        118                      68                     \n",
       "1314 86  Female  40        179                      68                     \n",
       "1315 44  Male    94        122                      67                     \n",
       "1316 66  Male    84        125                      55                     \n",
       "1317 45  Male    85        168                     104                     \n",
       "1318 54  Male    58        117                      68                     \n",
       "1319 51  Male    94        157                      79                     \n",
       "     Blood.sugar CK.MB   Troponin Result  \n",
       "1    160           1.800  0.012   negative\n",
       "2    296           6.750  1.060   positive\n",
       "3    270           1.990  0.003   negative\n",
       "4    270          13.870  0.122   positive\n",
       "5    300           1.080  0.003   negative\n",
       "6     87           1.830  0.004   negative\n",
       "7    102           0.710  0.003   negative\n",
       "8     87         300.000  2.370   positive\n",
       "9    135           2.350  0.004   negative\n",
       "10   100           2.840  0.011   negative\n",
       "11   102           2.390  0.006   negative\n",
       "12   198           2.390  0.013   negative\n",
       "13    92           3.430  5.370   positive\n",
       "14    97           1.420  0.012   negative\n",
       "15   319           2.570  0.003   negative\n",
       "16   134           1.490  0.017   positive\n",
       "17    87           1.110  0.776   positive\n",
       "18    96           0.606  0.004   negative\n",
       "19   274           2.890  0.003   negative\n",
       "20    89           1.600  0.020   positive\n",
       "21   301           1.600  0.005   negative\n",
       "22   100          94.790  0.004   positive\n",
       "23   227           0.665  0.491   positive\n",
       "24   107          50.460  0.003   positive\n",
       "25   269          38.720  0.612   positive\n",
       "26   111           2.110  1.390   positive\n",
       "27   101           2.930  0.003   negative\n",
       "28    95           1.610  0.006   negative\n",
       "29   279         300.000  0.007   positive\n",
       "30   166           0.493 10.000   negative\n",
       "⋮    ⋮           ⋮       ⋮        ⋮       \n",
       "1290 188          1.300   0.110   positive\n",
       "1291  87          0.609   0.016   positive\n",
       "1292 182         15.230   0.013   positive\n",
       "1293  96          1.540   0.930   positive\n",
       "1294 114          2.930   0.030   positive\n",
       "1295 415         16.950   0.005   positive\n",
       "1296 119          2.970   1.530   positive\n",
       "1297  95          4.220   1.040   positive\n",
       "1298 208          1.290   0.009   negative\n",
       "1299  80          4.800   0.009   negative\n",
       "1300 141          1.830   0.014   negative\n",
       "1301 118          1.330   0.544   positive\n",
       "1302 170          1.190   0.068   positive\n",
       "1303 108          2.110   0.003   negative\n",
       "1304 200          0.780   0.052   positive\n",
       "1305 102          2.280   0.255   positive\n",
       "1306 140          4.390   1.370   positive\n",
       "1307 230         19.470   0.003   positive\n",
       "1308 104          2.410   0.450   positive\n",
       "1309 202          3.180   0.003   negative\n",
       "1310 135         36.240   0.263   positive\n",
       "1311 351          2.210  10.000   positive\n",
       "1312 114          2.190   0.062   positive\n",
       "1313  96          5.330   0.006   negative\n",
       "1314 147          5.220   0.011   negative\n",
       "1315 204          1.630   0.006   negative\n",
       "1316 149          1.330   0.172   positive\n",
       "1317  96          1.240   4.250   positive\n",
       "1318 443          5.800   0.359   positive\n",
       "1319 134         50.890   1.770   positive"
      ]
     },
     "metadata": {},
     "output_type": "display_data"
    }
   ],
   "source": [
    "Medical = read.csv('Medicaldataset_Mod_2.csv', header = T, stringsAsFactors = F)\n",
    "#head\n",
    "View(Medical)\n"
   ]
  },
  {
   "cell_type": "markdown",
   "metadata": {
    "id": "Y6LlllrySscz"
   },
   "source": [
    "### Convertir la escala lineal a log\n",
    "Se puede hacer en la misma variable o en este caso crear una nueva variable donde se gurada la CK-MB pero en escala logarítmica\n",
    "\n",
    "A partir de este punto solo usé el campo CK.MB_log"
   ]
  },
  {
   "cell_type": "code",
   "execution_count": 6,
   "metadata": {
    "colab": {
     "base_uri": "https://localhost:8080/",
     "height": 306
    },
    "executionInfo": {
     "elapsed": 75,
     "status": "ok",
     "timestamp": 1751050771853,
     "user": {
      "displayName": "Alexín10",
      "userId": "17787641605367966968"
     },
     "user_tz": -120
    },
    "id": "R3XxxyEjQBwb",
    "outputId": "35b71264-d959-492f-d0f1-3a5caad2fb4d",
    "vscode": {
     "languageId": "r"
    }
   },
   "outputs": [
    {
     "data": {
      "text/html": [
       "<table class=\"dataframe\">\n",
       "<caption>A data.frame: 6 × 10</caption>\n",
       "<thead>\n",
       "\t<tr><th></th><th scope=col>Age</th><th scope=col>Gender</th><th scope=col>Heart.rate</th><th scope=col>Systolic.blood.pressure</th><th scope=col>Diastolic.blood.pressure</th><th scope=col>Blood.sugar</th><th scope=col>CK.MB</th><th scope=col>Troponin</th><th scope=col>Result</th><th scope=col>Troponin_log</th></tr>\n",
       "\t<tr><th></th><th scope=col>&lt;int&gt;</th><th scope=col>&lt;chr&gt;</th><th scope=col>&lt;int&gt;</th><th scope=col>&lt;int&gt;</th><th scope=col>&lt;int&gt;</th><th scope=col>&lt;dbl&gt;</th><th scope=col>&lt;dbl&gt;</th><th scope=col>&lt;dbl&gt;</th><th scope=col>&lt;chr&gt;</th><th scope=col>&lt;dbl&gt;</th></tr>\n",
       "</thead>\n",
       "<tbody>\n",
       "\t<tr><th scope=row>1</th><td>64</td><td>Male  </td><td>66</td><td>160</td><td>83</td><td>160</td><td> 1.80</td><td>0.012</td><td>negative</td><td>-4.42284863</td></tr>\n",
       "\t<tr><th scope=row>2</th><td>21</td><td>Male  </td><td>94</td><td> 98</td><td>46</td><td>296</td><td> 6.75</td><td>1.060</td><td>positive</td><td> 0.05826891</td></tr>\n",
       "\t<tr><th scope=row>3</th><td>55</td><td>Male  </td><td>64</td><td>160</td><td>77</td><td>270</td><td> 1.99</td><td>0.003</td><td>negative</td><td>-5.80914299</td></tr>\n",
       "\t<tr><th scope=row>4</th><td>64</td><td>Male  </td><td>70</td><td>120</td><td>55</td><td>270</td><td>13.87</td><td>0.122</td><td>positive</td><td>-2.10373423</td></tr>\n",
       "\t<tr><th scope=row>5</th><td>55</td><td>Male  </td><td>64</td><td>112</td><td>65</td><td>300</td><td> 1.08</td><td>0.003</td><td>negative</td><td>-5.80914299</td></tr>\n",
       "\t<tr><th scope=row>6</th><td>58</td><td>Female</td><td>61</td><td>112</td><td>58</td><td> 87</td><td> 1.83</td><td>0.004</td><td>negative</td><td>-5.52146092</td></tr>\n",
       "</tbody>\n",
       "</table>\n"
      ],
      "text/latex": [
       "A data.frame: 6 × 10\n",
       "\\begin{tabular}{r|llllllllll}\n",
       "  & Age & Gender & Heart.rate & Systolic.blood.pressure & Diastolic.blood.pressure & Blood.sugar & CK.MB & Troponin & Result & Troponin\\_log\\\\\n",
       "  & <int> & <chr> & <int> & <int> & <int> & <dbl> & <dbl> & <dbl> & <chr> & <dbl>\\\\\n",
       "\\hline\n",
       "\t1 & 64 & Male   & 66 & 160 & 83 & 160 &  1.80 & 0.012 & negative & -4.42284863\\\\\n",
       "\t2 & 21 & Male   & 94 &  98 & 46 & 296 &  6.75 & 1.060 & positive &  0.05826891\\\\\n",
       "\t3 & 55 & Male   & 64 & 160 & 77 & 270 &  1.99 & 0.003 & negative & -5.80914299\\\\\n",
       "\t4 & 64 & Male   & 70 & 120 & 55 & 270 & 13.87 & 0.122 & positive & -2.10373423\\\\\n",
       "\t5 & 55 & Male   & 64 & 112 & 65 & 300 &  1.08 & 0.003 & negative & -5.80914299\\\\\n",
       "\t6 & 58 & Female & 61 & 112 & 58 &  87 &  1.83 & 0.004 & negative & -5.52146092\\\\\n",
       "\\end{tabular}\n"
      ],
      "text/markdown": [
       "\n",
       "A data.frame: 6 × 10\n",
       "\n",
       "| <!--/--> | Age &lt;int&gt; | Gender &lt;chr&gt; | Heart.rate &lt;int&gt; | Systolic.blood.pressure &lt;int&gt; | Diastolic.blood.pressure &lt;int&gt; | Blood.sugar &lt;dbl&gt; | CK.MB &lt;dbl&gt; | Troponin &lt;dbl&gt; | Result &lt;chr&gt; | Troponin_log &lt;dbl&gt; |\n",
       "|---|---|---|---|---|---|---|---|---|---|---|\n",
       "| 1 | 64 | Male   | 66 | 160 | 83 | 160 |  1.80 | 0.012 | negative | -4.42284863 |\n",
       "| 2 | 21 | Male   | 94 |  98 | 46 | 296 |  6.75 | 1.060 | positive |  0.05826891 |\n",
       "| 3 | 55 | Male   | 64 | 160 | 77 | 270 |  1.99 | 0.003 | negative | -5.80914299 |\n",
       "| 4 | 64 | Male   | 70 | 120 | 55 | 270 | 13.87 | 0.122 | positive | -2.10373423 |\n",
       "| 5 | 55 | Male   | 64 | 112 | 65 | 300 |  1.08 | 0.003 | negative | -5.80914299 |\n",
       "| 6 | 58 | Female | 61 | 112 | 58 |  87 |  1.83 | 0.004 | negative | -5.52146092 |\n",
       "\n"
      ],
      "text/plain": [
       "  Age Gender Heart.rate Systolic.blood.pressure Diastolic.blood.pressure\n",
       "1 64  Male   66         160                     83                      \n",
       "2 21  Male   94          98                     46                      \n",
       "3 55  Male   64         160                     77                      \n",
       "4 64  Male   70         120                     55                      \n",
       "5 55  Male   64         112                     65                      \n",
       "6 58  Female 61         112                     58                      \n",
       "  Blood.sugar CK.MB Troponin Result   Troponin_log\n",
       "1 160          1.80 0.012    negative -4.42284863 \n",
       "2 296          6.75 1.060    positive  0.05826891 \n",
       "3 270          1.99 0.003    negative -5.80914299 \n",
       "4 270         13.87 0.122    positive -2.10373423 \n",
       "5 300          1.08 0.003    negative -5.80914299 \n",
       "6  87          1.83 0.004    negative -5.52146092 "
      ]
     },
     "metadata": {},
     "output_type": "display_data"
    }
   ],
   "source": [
    "\n",
    "Medical$Troponin_log <- log(Medical$Troponin)\n",
    "\n",
    "\n",
    "head(Medical)"
   ]
  },
  {
   "cell_type": "code",
   "execution_count": 7,
   "metadata": {
    "executionInfo": {
     "elapsed": 358,
     "status": "ok",
     "timestamp": 1751050774699,
     "user": {
      "displayName": "Alexín10",
      "userId": "17787641605367966968"
     },
     "user_tz": -120
    },
    "id": "2Z__YSsoiTOx",
    "vscode": {
     "languageId": "r"
    }
   },
   "outputs": [],
   "source": [
    "library(ggplot2)"
   ]
  },
  {
   "cell_type": "code",
   "execution_count": 8,
   "metadata": {
    "colab": {
     "base_uri": "https://localhost:8080/",
     "height": 213
    },
    "executionInfo": {
     "elapsed": 81,
     "status": "ok",
     "timestamp": 1751050778989,
     "user": {
      "displayName": "Alexín10",
      "userId": "17787641605367966968"
     },
     "user_tz": -120
    },
    "id": "aTmTPNj9inif",
    "outputId": "8c5b2653-c8d6-4fe2-ea74-eaa6880423dd",
    "vscode": {
     "languageId": "r"
    }
   },
   "outputs": [
    {
     "name": "stderr",
     "output_type": "stream",
     "text": [
      "Warning message:\n",
      "“\u001b[1m\u001b[22m`tbl_df()` was deprecated in dplyr 1.0.0.\n",
      "\u001b[36mℹ\u001b[39m Please use `tibble::as_tibble()` instead.”\n"
     ]
    },
    {
     "data": {
      "text/html": [
       "<table class=\"dataframe\">\n",
       "<caption>A tibble: 2 × 5</caption>\n",
       "<thead>\n",
       "\t<tr><th scope=col>Result</th><th scope=col>count</th><th scope=col>mean</th><th scope=col>median</th><th scope=col>stdev</th></tr>\n",
       "\t<tr><th scope=col>&lt;chr&gt;</th><th scope=col>&lt;int&gt;</th><th scope=col>&lt;dbl&gt;</th><th scope=col>&lt;dbl&gt;</th><th scope=col>&lt;dbl&gt;</th></tr>\n",
       "</thead>\n",
       "<tbody>\n",
       "\t<tr><td>negative</td><td>509</td><td>-5.148407</td><td>-5.115996</td><td>0.6560319</td></tr>\n",
       "\t<tr><td>positive</td><td>810</td><td>-2.594000</td><td>-3.123566</td><td>2.1053561</td></tr>\n",
       "</tbody>\n",
       "</table>\n"
      ],
      "text/latex": [
       "A tibble: 2 × 5\n",
       "\\begin{tabular}{lllll}\n",
       " Result & count & mean & median & stdev\\\\\n",
       " <chr> & <int> & <dbl> & <dbl> & <dbl>\\\\\n",
       "\\hline\n",
       "\t negative & 509 & -5.148407 & -5.115996 & 0.6560319\\\\\n",
       "\t positive & 810 & -2.594000 & -3.123566 & 2.1053561\\\\\n",
       "\\end{tabular}\n"
      ],
      "text/markdown": [
       "\n",
       "A tibble: 2 × 5\n",
       "\n",
       "| Result &lt;chr&gt; | count &lt;int&gt; | mean &lt;dbl&gt; | median &lt;dbl&gt; | stdev &lt;dbl&gt; |\n",
       "|---|---|---|---|---|\n",
       "| negative | 509 | -5.148407 | -5.115996 | 0.6560319 |\n",
       "| positive | 810 | -2.594000 | -3.123566 | 2.1053561 |\n",
       "\n"
      ],
      "text/plain": [
       "  Result   count mean      median    stdev    \n",
       "1 negative 509   -5.148407 -5.115996 0.6560319\n",
       "2 positive 810   -2.594000 -3.123566 2.1053561"
      ]
     },
     "metadata": {},
     "output_type": "display_data"
    }
   ],
   "source": [
    "library(dplyr, warn.conflicts=FALSE)\n",
    "grouped <- group_by(tbl_df(Medical),Result)\n",
    "summarize(grouped, count = length(Result), mean = mean(Troponin_log), median = median(Troponin_log), stdev = sd(Troponin_log))"
   ]
  },
  {
   "cell_type": "code",
   "execution_count": 9,
   "metadata": {
    "colab": {
     "base_uri": "https://localhost:8080/",
     "height": 437
    },
    "executionInfo": {
     "elapsed": 636,
     "status": "ok",
     "timestamp": 1751050786248,
     "user": {
      "displayName": "Alexín10",
      "userId": "17787641605367966968"
     },
     "user_tz": -120
    },
    "id": "nBCjuSP-ipJI",
    "outputId": "7a15dd13-2ed9-46f2-8bef-fe3b02b7d851",
    "vscode": {
     "languageId": "r"
    }
   },
   "outputs": [
    {
     "data": {
      "image/png": "[encoded data removed]",
      "text/plain": [
       "plot without title"
      ]
     },
     "metadata": {
      "image/png": {
       "height": 420,
       "width": 420
      }
     },
     "output_type": "display_data"
    }
   ],
   "source": [
    "ggplot(grouped, aes(x=factor(Result),y=Troponin_log,color=factor(Result))) + geom_boxplot()+\n",
    "        labs(title=\"Troponin level by Result (Log)\")"
   ]
  },
  {
   "cell_type": "code",
   "execution_count": 10,
   "metadata": {
    "colab": {
     "base_uri": "https://localhost:8080/",
     "height": 437
    },
    "executionInfo": {
     "elapsed": 486,
     "status": "ok",
     "timestamp": 1751050789472,
     "user": {
      "displayName": "Alexín10",
      "userId": "17787641605367966968"
     },
     "user_tz": -120
    },
    "id": "p1Vnc173RxHI",
    "outputId": "c0b3f8bf-719e-4406-bb8b-0c5a8575c09f",
    "vscode": {
     "languageId": "r"
    }
   },
   "outputs": [
    {
     "data": {
      "image/png": "[encoded data removed]",
      "text/plain": [
       "plot without title"
      ]
     },
     "metadata": {
      "image/png": {
       "height": 420,
       "width": 420
      }
     },
     "output_type": "display_data"
    }
   ],
   "source": [
    "\n",
    "original_ticks_ckmb <- c(1, 5, 10, 50, 100, 500)\n",
    "\n",
    "log_ticks_ckmb <- log1p(original_ticks_ckmb)\n",
    "\n",
    "ggplot(Medical, aes(x=factor(Result), y=Troponin_log, color=factor(Result))) +\n",
    "  geom_boxplot() +\n",
    "  labs(title=\"Nivel de Troponina (escala logarítmica) por Resultado\",\n",
    "       y = \"Troponin (escala logarítmica) ajustado a la escala lineal\",\n",
    "       x = \"Resultado\") +\n",
    "  scale_y_continuous(breaks = log_ticks_ckmb,\n",
    "                     labels = original_ticks_ckmb) +\n",
    "  theme_minimal()"
   ]
  },
  {
   "cell_type": "code",
   "execution_count": null,
   "metadata": {
    "colab": {
     "base_uri": "https://localhost:8080/",
     "height": 214
    },
    "id": "X5xnT3-7we-f",
    "outputId": "8e1a800c-2a7e-4760-c5a2-4ec88ebb2a90",
    "vscode": {
     "languageId": "r"
    }
   },
   "outputs": [
    {
     "data": {
      "text/plain": [
       "\n",
       "\tWelch Two Sample t-test\n",
       "\n",
       "data:  Troponin_log by Result\n",
       "t = -32.137, df = 1038.8, p-value < 2.2e-16\n",
       "alternative hypothesis: true difference in means between group negative and group positive is not equal to 0\n",
       "95 percent confidence interval:\n",
       " -2.710376 -2.398439\n",
       "sample estimates:\n",
       "mean in group negative mean in group positive \n",
       "             -5.148407              -2.594000 \n"
      ]
     },
     "metadata": {},
     "output_type": "display_data"
    }
   ],
   "source": [
    "Medical_ttest <- t.test(Troponin_log ~ Result, data = Medical)\n",
    "Medical_ttest"
   ]
  },
  {
   "cell_type": "markdown",
   "metadata": {
    "id": "DTE5W7Faiw-L"
   },
   "source": [
    "install.packages(\"DataExplorer\")\n",
    "library(DataExplorer)"
   ]
  },
  {
   "cell_type": "code",
   "execution_count": null,
   "metadata": {
    "colab": {
     "base_uri": "https://localhost:8080/"
    },
    "id": "cnTnKO_xi9KC",
    "outputId": "145f878b-6a51-472a-dad6-fe2868b75cd4",
    "vscode": {
     "languageId": "r"
    }
   },
   "outputs": [
    {
     "name": "stdout",
     "output_type": "stream",
     "text": [
      "   Row_ID Outlier_Value\n",
      "1      13      1.680828\n",
      "2      30      2.302585\n",
      "3      31      2.116256\n",
      "4      90      1.800058\n",
      "5     114      2.037317\n",
      "6     279      1.619388\n",
      "7     434      1.669592\n",
      "8     467      1.701105\n",
      "9     476      2.209373\n",
      "10    754      2.302585\n",
      "11    797      1.769855\n",
      "12    936      1.793425\n",
      "13    989      2.332144\n",
      "14   1004      2.302585\n",
      "15   1029      2.302585\n",
      "16   1049      2.302585\n",
      "17   1095      2.302585\n",
      "18   1132      1.686399\n",
      "19   1154      1.631199\n",
      "20   1253      2.302585\n",
      "21   1311      2.302585\n"
     ]
    }
   ],
   "source": [
    "#detect outlyers_CK.MB\n",
    "# 1. Get the outlier values\n",
    "boxplot_stats <- boxplot.stats(Medical$Troponin_log)\n",
    "outlier_values <- boxplot_stats$out\n",
    "\n",
    "# 2. Find the row numbers where these outlier values appear in the original column\n",
    "#    We use `which()` to get the indices (row numbers) where the values match any of the outliers.\n",
    "outlier_rows <- which(Medical$Troponin_log %in% outlier_values)\n",
    "\n",
    "# 3. Combine the row numbers and outlier values into a data frame for a clear list\n",
    "outlier_info <- data.frame(\n",
    "  Row_ID = outlier_rows,\n",
    "  Outlier_Value = Medical$Troponin_log[outlier_rows] # Get the actual outlier value for that row\n",
    ")\n",
    "\n",
    "# Print the list of outlier IDs and their values\n",
    "print(outlier_info)"
   ]
  },
  {
   "cell_type": "code",
   "execution_count": null,
   "metadata": {
    "colab": {
     "base_uri": "https://localhost:8080/",
     "height": 315
    },
    "executionInfo": {
     "elapsed": 260,
     "status": "error",
     "timestamp": 1751047197360,
     "user": {
      "displayName": "Alexín10",
      "userId": "17787641605367966968"
     },
     "user_tz": -120
    },
    "id": "QSbSOhuPiv3V",
    "outputId": "94b7dac4-4de2-4dc5-c510-bf04bbd867bd",
    "vscode": {
     "languageId": "r"
    }
   },
   "outputs": [
    {
     "name": "stderr",
     "output_type": "stream",
     "text": [
      "Warning message:\n",
      "“\u001b[1m\u001b[22m`tbl_df()` was deprecated in dplyr 1.0.0.\n",
      "\u001b[36mℹ\u001b[39m Please use `tibble::as_tibble()` instead.”\n"
     ]
    },
    {
     "ename": "ERROR",
     "evalue": "Error: object 'Medical' not found\n",
     "output_type": "error",
     "traceback": [
      "Error: object 'Medical' not found\nTraceback:\n",
      "1. tbl_df(Medical)",
      "2. as_tibble(data, .name_repair = \"check_unique\")",
      "3. .handleSimpleError(function (cnd) \n . {\n .     watcher$capture_plot_and_output()\n .     cnd <- sanitize_call(cnd)\n .     watcher$push(cnd)\n .     switch(on_error, continue = invokeRestart(\"eval_continue\"), \n .         stop = invokeRestart(\"eval_stop\"), error = NULL)\n . }, \"object 'Medical' not found\", base::quote(eval(expr, envir)))"
     ]
    }
   ],
   "source": [
    "library(dplyr, warn.conflicts=FALSE)\n",
    "grouped <- group_by(tbl_df(Medical),Result)\n",
    "summarize(grouped, count = length(Result), mean = mean(Troponin_log), median = median(Troponin_log), stdev = sd(Troponin_log))"
   ]
  }
 ],
 "metadata": {
  "colab": {
   "provenance": []
  },
  "kernelspec": {
   "display_name": "R",
   "name": "ir"
  },
  "language_info": {
   "name": "R"
  }
 },
 "nbformat": 4,
 "nbformat_minor": 0
}
